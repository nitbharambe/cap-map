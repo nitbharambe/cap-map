{
 "cells": [
  {
   "cell_type": "code",
   "execution_count": 1,
   "metadata": {
    "ExecuteTime": {
     "end_time": "2021-03-22T22:29:42.387849Z",
     "start_time": "2021-03-22T22:29:39.509564Z"
    }
   },
   "outputs": [],
   "source": [
    "from cap import pfa\n",
    "from cap import viz\n",
    "import simbench as sb\n",
    "import numpy as np\n",
    "import pandas as pd"
   ]
  },
  {
   "cell_type": "markdown",
   "metadata": {},
   "source": [
    "## Set Parameters"
   ]
  },
  {
   "cell_type": "markdown",
   "metadata": {},
   "source": [
    "### Input Grid"
   ]
  },
  {
   "cell_type": "code",
   "execution_count": 1,
   "metadata": {
    "ExecuteTime": {
     "end_time": "2021-03-22T22:30:17.867225Z",
     "start_time": "2021-03-22T22:30:12.736752Z"
    }
   },
   "outputs": [
    {
     "ename": "NameError",
     "evalue": "name 'sb' is not defined",
     "output_type": "error",
     "traceback": [
      "\u001B[1;31m---------------------------------------------------------------------------\u001B[0m",
      "\u001B[1;31mNameError\u001B[0m                                 Traceback (most recent call last)",
      "\u001B[1;32m<ipython-input-1-6272ad104b88>\u001B[0m in \u001B[0;36m<module>\u001B[1;34m\u001B[0m\n\u001B[0;32m      7\u001B[0m \u001B[0msb_code1\u001B[0m \u001B[1;33m=\u001B[0m \u001B[1;34m\"1-MV-rural--1-sw\"\u001B[0m  \u001B[1;31m# rural MV grid of scenario 0 with full switchs\u001B[0m\u001B[1;33m\u001B[0m\u001B[1;33m\u001B[0m\u001B[0m\n\u001B[0;32m      8\u001B[0m \u001B[0msb_code2\u001B[0m \u001B[1;33m=\u001B[0m \u001B[1;34m\"1-HVMV-urban-all-0-sw\"\u001B[0m  \u001B[1;31m# urban hv grid with one connected mv grid which has the subnet 2.202\u001B[0m\u001B[1;33m\u001B[0m\u001B[1;33m\u001B[0m\u001B[0m\n\u001B[1;32m----> 9\u001B[1;33m \u001B[0mnet\u001B[0m \u001B[1;33m=\u001B[0m \u001B[0msb\u001B[0m\u001B[1;33m.\u001B[0m\u001B[0mget_simbench_net\u001B[0m\u001B[1;33m(\u001B[0m\u001B[0msb_code1\u001B[0m\u001B[1;33m)\u001B[0m\u001B[1;33m\u001B[0m\u001B[1;33m\u001B[0m\u001B[0m\n\u001B[0m\u001B[0;32m     10\u001B[0m \u001B[0mnet\u001B[0m\u001B[1;33m.\u001B[0m\u001B[0mbus\u001B[0m\u001B[1;33m.\u001B[0m\u001B[0mmax_vm_pu\u001B[0m\u001B[1;33m=\u001B[0m\u001B[0mnet\u001B[0m\u001B[1;33m.\u001B[0m\u001B[0mbus\u001B[0m\u001B[1;33m.\u001B[0m\u001B[0mmax_vm_pu\u001B[0m\u001B[1;33m*\u001B[0m\u001B[1;36m1.05\u001B[0m\u001B[1;33m\u001B[0m\u001B[1;33m\u001B[0m\u001B[0m\n\u001B[0;32m     11\u001B[0m \u001B[1;33m\u001B[0m\u001B[0m\n",
      "\u001B[1;31mNameError\u001B[0m: name 'sb' is not defined"
     ]
    }
   ],
   "source": [
    "'''\n",
    "Input grid for developing code is sb_code1\n",
    "sb_code2 is the larger grid to test the code\n",
    "Initial values of the loads and generation are stored\n",
    "Maximum voltage limits are relaxed for testing sample code since the limit gets violated for the test grid without adding any capacity\n",
    "'''\n",
    "sb_code1 = \"1-MV-rural--1-sw\"  # rural MV grid of scenario 0 with full switchs\n",
    "sb_code2 = \"1-HVMV-urban-all-0-sw\"  # urban hv grid with one connected mv grid which has the subnet 2.202\n",
    "net = sb.get_simbench_net(sb_code1)\n",
    "net.bus.max_vm_pu=net.bus.max_vm_pu*1.05"
   ]
  },
  {
   "cell_type": "markdown",
   "metadata": {},
   "source": [
    "### Other parameters"
   ]
  },
  {
   "cell_type": "code",
   "execution_count": null,
   "metadata": {
    "ExecuteTime": {
     "end_time": "2021-03-22T22:30:17.899140Z",
     "start_time": "2021-03-22T22:30:17.886176Z"
    }
   },
   "outputs": [],
   "source": [
    "'''\n",
    "Might put these inside .py file\n",
    "time_steps:Set time steps in range for the timeseries module to compute over. \n",
    "    This parameter must be of same length as the length of profiles.\n",
    "ll_p and ul_p : limits for maximum and minimum capacity that can be added to any bus\n",
    "inp_q: input reactive power for added capacity. Assumed constant\n",
    "tol: Search algorithm tolerance (in MW)\n",
    "output_dir : Set directory for storing the logged varaiables. \n",
    "    Commented output_dir line is for setting directory in the temporary files of the computer.\n",
    "ow: Create the output writer object ow\n",
    "'''\n",
    "time_steps=range(96)\n",
    "ll_p=0\n",
    "ul_p=90\n",
    "inp_q=0.1\n",
    "s_tol=0.005\n",
    "\n",
    "ow=pfa.define_log(net,time_steps)   #For logging variables\n"
   ]
  },
  {
   "cell_type": "markdown",
   "metadata": {},
   "source": [
    "## Set Input"
   ]
  },
  {
   "cell_type": "code",
   "execution_count": null,
   "metadata": {
    "ExecuteTime": {
     "end_time": "2021-03-22T22:30:17.930058Z",
     "start_time": "2021-03-22T22:30:17.917093Z"
    }
   },
   "outputs": [],
   "source": [
    "'''\n",
    "Sample input. Use as needed\n",
    "prof and loadorgen are needed for getting the map\n",
    "Others are needed in case of individual capacity checks\n",
    "'''\n",
    "#size_pmw=10\n",
    "#size_qmw=0.05\n",
    "loadorgen='sgen'\n",
    "#prof='L0-A'\n",
    "prof='WP4'\n",
    "#conn_at_bus=2"
   ]
  },
  {
   "cell_type": "markdown",
   "metadata": {},
   "source": [
    "## Get Map / PFA"
   ]
  },
  {
   "cell_type": "markdown",
   "metadata": {},
   "source": [
    "all_cap_map function takes lot of time to calculate capacities of an entire map. So they will be stored in an external file and read again in next section. Try using other inner functions to check if they work"
   ]
  },
  {
   "cell_type": "code",
   "execution_count": null,
   "metadata": {
    "ExecuteTime": {
     "end_time": "2021-03-22T22:30:25.112246Z",
     "start_time": "2021-03-22T22:30:19.628409Z"
    },
    "scrolled": true
   },
   "outputs": [],
   "source": [
    "#Functions for finding maximum capacities\n",
    "#sgen_allcap=pfa.all_cap_map(net,ow=ow, loadorgen='sgen', ul_p=ul_p, ll_p=ll_p, prof='WP4')\n",
    "#load_allcap=pfa.all_cap_map(net,ow=ow, loadorgen='load', ul_p=ul_p, ll_p=ll_p, prof='L0-A')\n",
    "\n",
    "#The all_cap_map function is max_cap looped for all busses so try below functions for quick results.\n",
    "pfa.max_cap(net,ow=ow,conn_at_bus=92, loadorgen='sgen',ul_p=ul_p, ll_p=ll_p, prof='WP4')\n",
    "#pfa.max_cap(net,ow=ow,conn_at_bus=95, loadorgen='load',ul_p=ul_p, ll_p=ll_p, prof='L0-A')\n",
    "#pfa.sing_res(net,ow=ow,conn_at_bus=95, loadorgen='load',size_p=10,size_q=0.1, prof='L0-A')"
   ]
  },
  {
   "cell_type": "markdown",
   "metadata": {
    "ExecuteTime": {
     "end_time": "2021-03-22T11:54:48.199602Z",
     "start_time": "2021-03-22T11:54:48.178659Z"
    }
   },
   "source": [
    "## Visualisation"
   ]
  },
  {
   "cell_type": "code",
   "execution_count": null,
   "metadata": {},
   "outputs": [],
   "source": [
    "net.load['max_load']=pd.read_csv(\"sampdata/samp_load_allcap.csv\")['max_add_cap']\n",
    "net.sgen['max_sgen']=pd.read_csv(\"sampdata/samp_sgen_allcap.csv\")['max_add_cap']\n",
    "# Or just initialize to random values\n",
    "#net.sgen['max_sgen']=np.random.randint(0,100,net.sgen.shape[0])\n",
    "#net.load['max_load']=np.random.randint(0,100,net.load.shape[0])"
   ]
  },
  {
   "cell_type": "code",
   "execution_count": null,
   "metadata": {
    "ExecuteTime": {
     "end_time": "2021-03-22T19:45:29.181210Z",
     "start_time": "2021-03-22T19:45:28.748933Z"
    }
   },
   "outputs": [],
   "source": [
    "viz.pf_res_plotly1(net)"
   ]
  },
  {
   "cell_type": "code",
   "execution_count": 7,
   "metadata": {
    "ExecuteTime": {
     "end_time": "2021-03-22T22:30:35.357567Z",
     "start_time": "2021-03-22T22:30:35.208935Z"
    }
   },
   "outputs": [],
   "source": []
  },
  {
   "cell_type": "code",
   "execution_count": 7,
   "metadata": {
    "ExecuteTime": {
     "end_time": "2021-03-22T22:31:02.405883Z",
     "start_time": "2021-03-22T22:31:02.367983Z"
    }
   },
   "outputs": [],
   "source": []
  },
  {
   "cell_type": "code",
   "execution_count": 7,
   "outputs": [],
   "source": [],
   "metadata": {
    "collapsed": false,
    "pycharm": {
     "name": "#%%\n"
    }
   }
  }
 ],
 "metadata": {
  "kernelspec": {
   "display_name": "Python 3",
   "language": "python",
   "name": "python3"
  },
  "language_info": {
   "codemirror_mode": {
    "name": "ipython",
    "version": 3
   },
   "file_extension": ".py",
   "mimetype": "text/x-python",
   "name": "python",
   "nbconvert_exporter": "python",
   "pygments_lexer": "ipython3",
   "version": "3.8.5"
  },
  "toc": {
   "base_numbering": 1,
   "nav_menu": {
    "height": "155px",
    "width": "190px"
   },
   "number_sections": true,
   "sideBar": true,
   "skip_h1_title": false,
   "title_cell": "Table of Contents",
   "title_sidebar": "Contents",
   "toc_cell": false,
   "toc_position": {
    "height": "calc(100% - 180px)",
    "left": "10px",
    "top": "150px",
    "width": "165px"
   },
   "toc_section_display": true,
   "toc_window_display": true
  },
  "varInspector": {
   "cols": {
    "lenName": 16,
    "lenType": 16,
    "lenVar": 40
   },
   "kernels_config": {
    "python": {
     "delete_cmd_postfix": "",
     "delete_cmd_prefix": "del ",
     "library": "var_list.py",
     "varRefreshCmd": "print(var_dic_list())"
    },
    "r": {
     "delete_cmd_postfix": ") ",
     "delete_cmd_prefix": "rm(",
     "library": "var_list.r",
     "varRefreshCmd": "cat(var_dic_list()) "
    }
   },
   "oldHeight": 494.4,
   "position": {
    "height": "40px",
    "left": "1122px",
    "right": "20px",
    "top": "120px",
    "width": "394px"
   },
   "types_to_exclude": [
    "module",
    "function",
    "builtin_function_or_method",
    "instance",
    "_Feature"
   ],
   "varInspector_section_display": "none",
   "window_display": true
  }
 },
 "nbformat": 4,
 "nbformat_minor": 4
}