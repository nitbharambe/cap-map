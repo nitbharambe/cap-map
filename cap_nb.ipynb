{
 "cells": [
  {
   "cell_type": "code",
   "execution_count": 1,
   "metadata": {
    "ExecuteTime": {
     "end_time": "2021-03-22T22:29:42.387849Z",
     "start_time": "2021-03-22T22:29:39.509564Z"
    }
   },
   "outputs": [],
   "source": [
    "from cap import pfa\n",
    "from cap import viz\n",
    "import simbench as sb\n",
    "import numpy as np\n",
    "import pandas as pd\n",
    "# for Dash import (might change Dash into a single function)\n",
    "import dash  # (version 1.12.0) pip install dash\n",
    "import dash_core_components as dcc\n",
    "import dash_html_components as html\n",
    "from dash.dependencies import Input, Output"
   ]
  },
  {
   "cell_type": "markdown",
   "metadata": {},
   "source": [
    "## Set Parameters"
   ]
  },
  {
   "cell_type": "markdown",
   "metadata": {},
   "source": [
    "### Input Grid"
   ]
  },
  {
   "cell_type": "code",
   "execution_count": 2,
   "metadata": {
    "ExecuteTime": {
     "end_time": "2021-03-22T22:30:17.867225Z",
     "start_time": "2021-03-22T22:30:12.736752Z"
    }
   },
   "outputs": [
    {
     "name": "stderr",
     "output_type": "stream",
     "text": [
      "c:\\users\\joech\\pycharmprojects\\pythonproject1\\venv\\lib\\site-packages\\simbench\\converter\\csv_pp_converter.py:390: FutureWarning: Index.__or__ operating as a set operation is deprecated, in the future this will be a logical operation matching Series.__or__.  Use index.union(other) instead\n",
      "  idx_bus = data[\"Measurement\"].index.difference(idx_line | idx_trafo).astype(int)\n",
      "c:\\users\\joech\\pycharmprojects\\pythonproject1\\venv\\lib\\site-packages\\simbench\\converter\\csv_pp_converter.py:468: FutureWarning: Index.__or__ operating as a set operation is deprecated, in the future this will be a logical operation matching Series.__or__.  Use index.union(other) instead\n",
      "  missing = csv_data[\"Line\"].index.difference(idx_lines | idx_dclines)\n",
      "c:\\users\\joech\\pycharmprojects\\pythonproject1\\venv\\lib\\site-packages\\simbench\\converter\\csv_pp_converter.py:472: FutureWarning: Index.__and__ operating as a set operation is deprecated, in the future this will be a logical operation matching Series.__and__.  Use index.intersection(other) instead\n",
      "  if len(idx_lines & idx_dclines):\n",
      "c:\\users\\joech\\pycharmprojects\\pythonproject1\\venv\\lib\\site-packages\\simbench\\converter\\csv_pp_converter.py:829: FutureWarning: Index.__or__ operating as a set operation is deprecated, in the future this will be a logical operation matching Series.__or__.  Use index.union(other) instead\n",
      "  columns=input_data[corr_str].columns | Type_col_except_std_type)\n"
     ]
    }
   ],
   "source": [
    "'''\n",
    "Input grid for developing code is sb_code1\n",
    "sb_code2 is the larger grid to test the code\n",
    "Initial values of the loads and generation are stored\n",
    "Maximum voltage limits are relaxed for testing sample code since the limit gets violated for the test grid without adding any capacity\n",
    "'''\n",
    "sb_code1 = \"1-MV-rural--1-sw\"  # rural MV grid of scenario 0 with full switchs\n",
    "sb_code2 = \"1-HVMV-urban-all-0-sw\"  # urban hv grid with one connected mv grid which has the subnet 2.202\n",
    "net = sb.get_simbench_net(sb_code1)\n",
    "net.bus.max_vm_pu=net.bus.max_vm_pu*1.05"
   ]
  },
  {
   "cell_type": "markdown",
   "metadata": {},
   "source": [
    "### Other parameters"
   ]
  },
  {
   "cell_type": "code",
   "execution_count": 3,
   "metadata": {
    "ExecuteTime": {
     "end_time": "2021-03-22T22:30:17.899140Z",
     "start_time": "2021-03-22T22:30:17.886176Z"
    }
   },
   "outputs": [],
   "source": [
    "'''\n",
    "Might put these inside .py file\n",
    "time_steps:Set time steps in range for the timeseries module to compute over. \n",
    "    This parameter must be of same length as the length of profiles.\n",
    "ll_p and ul_p : limits for maximum and minimum capacity that can be added to any bus\n",
    "inp_q: input reactive power for added capacity. Assumed constant\n",
    "tol: Search algorithm tolerance (in MW)\n",
    "output_dir : Set directory for storing the logged varaiables. \n",
    "    Commented output_dir line is for setting directory in the temporary files of the computer.\n",
    "ow: Create the output writer object ow\n",
    "'''\n",
    "time_steps=range(96)\n",
    "ll_p=0\n",
    "ul_p=90\n",
    "inp_q=0.1\n",
    "s_tol=0.005\n",
    "\n",
    "ow=pfa.define_log(net,time_steps)   #For logging variables\n"
   ]
  },
  {
   "cell_type": "markdown",
   "metadata": {},
   "source": [
    "## Set Input"
   ]
  },
  {
   "cell_type": "code",
   "execution_count": 4,
   "metadata": {
    "ExecuteTime": {
     "end_time": "2021-03-22T22:30:17.930058Z",
     "start_time": "2021-03-22T22:30:17.917093Z"
    }
   },
   "outputs": [],
   "source": [
    "'''\n",
    "Sample input. Use as needed\n",
    "prof and loadorgen are needed for getting the map\n",
    "Others are needed in case of individual capacity checks\n",
    "'''\n",
    "#size_pmw=10\n",
    "#size_qmw=0.05\n",
    "loadorgen='sgen'\n",
    "#prof='L0-A'\n",
    "prof='WP4'\n",
    "#conn_at_bus=2"
   ]
  },
  {
   "cell_type": "markdown",
   "metadata": {},
   "source": [
    "## Get Map / PFA"
   ]
  },
  {
   "cell_type": "markdown",
   "metadata": {},
   "source": [
    "all_cap_map function takes lot of time to calculate capacities of an entire map. So they will be stored in an external file and read again in next section. Try using other inner functions to check if they work"
   ]
  },
  {
   "cell_type": "code",
   "execution_count": 5,
   "metadata": {
    "ExecuteTime": {
     "end_time": "2021-03-22T22:30:25.112246Z",
     "start_time": "2021-03-22T22:30:19.628409Z"
    },
    "scrolled": true
   },
   "outputs": [
    {
     "name": "stdout",
     "output_type": "stream",
     "text": [
      "Progress: |--------------------------------------------------| 1.0% Complete"
     ]
    },
    {
     "name": "stderr",
     "output_type": "stream",
     "text": [
      "c:\\users\\joech\\pycharmprojects\\pythonproject1\\venv\\lib\\site-packages\\pandapower\\control\\util\\auxiliary.py:130: FutureWarning: Index.__and__ operating as a set operation is deprecated, in the future this will be a logical operation matching Series.__and__.  Use index.intersection(other) instead\n",
      "  idx &= net.controller.index[net.controller[df_key] == parameters[df_key]]\n"
     ]
    },
    {
     "name": "stdout",
     "output_type": "stream",
     "text": [
      "Progress: |██████████████████████████████████████████████████| 100.0% Complete\n",
      "\n",
      "Progress: |███-----------------------------------------------| 6.2% Complete"
     ]
    },
    {
     "name": "stderr",
     "output_type": "stream",
     "text": [
      "c:\\users\\joech\\pycharmprojects\\pythonproject1\\venv\\lib\\site-packages\\pandapower\\control\\util\\auxiliary.py:130: FutureWarning: Index.__and__ operating as a set operation is deprecated, in the future this will be a logical operation matching Series.__and__.  Use index.intersection(other) instead\n",
      "  idx &= net.controller.index[net.controller[df_key] == parameters[df_key]]\n"
     ]
    },
    {
     "name": "stdout",
     "output_type": "stream",
     "text": [
      "Progress: |██████████████████████████████████████████████████| 100.0% Complete\n",
      "\n",
      "Progress: |███-----------------------------------------------| 7.3% Complete"
     ]
    },
    {
     "name": "stderr",
     "output_type": "stream",
     "text": [
      "c:\\users\\joech\\pycharmprojects\\pythonproject1\\venv\\lib\\site-packages\\pandapower\\control\\util\\auxiliary.py:130: FutureWarning: Index.__and__ operating as a set operation is deprecated, in the future this will be a logical operation matching Series.__and__.  Use index.intersection(other) instead\n",
      "  idx &= net.controller.index[net.controller[df_key] == parameters[df_key]]\n"
     ]
    },
    {
     "name": "stdout",
     "output_type": "stream",
     "text": [
      "Progress: |██████████████████████████████████████████████████| 100.0% Complete\n",
      "\n",
      "Progress: |████----------------------------------------------| 8.3% Complete"
     ]
    },
    {
     "name": "stderr",
     "output_type": "stream",
     "text": [
      "c:\\users\\joech\\pycharmprojects\\pythonproject1\\venv\\lib\\site-packages\\pandapower\\control\\util\\auxiliary.py:130: FutureWarning: Index.__and__ operating as a set operation is deprecated, in the future this will be a logical operation matching Series.__and__.  Use index.intersection(other) instead\n",
      "  idx &= net.controller.index[net.controller[df_key] == parameters[df_key]]\n"
     ]
    },
    {
     "name": "stdout",
     "output_type": "stream",
     "text": [
      "Progress: |██████████████████████████████████████████████████| 100.0% Complete\n",
      "\n",
      "Progress: |█████---------------------------------------------| 10.4% Complete"
     ]
    },
    {
     "name": "stderr",
     "output_type": "stream",
     "text": [
      "c:\\users\\joech\\pycharmprojects\\pythonproject1\\venv\\lib\\site-packages\\pandapower\\control\\util\\auxiliary.py:130: FutureWarning: Index.__and__ operating as a set operation is deprecated, in the future this will be a logical operation matching Series.__and__.  Use index.intersection(other) instead\n",
      "  idx &= net.controller.index[net.controller[df_key] == parameters[df_key]]\n"
     ]
    },
    {
     "name": "stdout",
     "output_type": "stream",
     "text": [
      "Progress: |██████████████████████████████████████████████████| 100.0% Complete\n",
      "\n",
      "Progress: |███-----------------------------------------------| 7.3% Complete"
     ]
    },
    {
     "name": "stderr",
     "output_type": "stream",
     "text": [
      "c:\\users\\joech\\pycharmprojects\\pythonproject1\\venv\\lib\\site-packages\\pandapower\\control\\util\\auxiliary.py:130: FutureWarning: Index.__and__ operating as a set operation is deprecated, in the future this will be a logical operation matching Series.__and__.  Use index.intersection(other) instead\n",
      "  idx &= net.controller.index[net.controller[df_key] == parameters[df_key]]\n"
     ]
    },
    {
     "name": "stdout",
     "output_type": "stream",
     "text": [
      "Progress: |██████████████████████████████████████████████████| 100.0% Complete\n",
      "\n",
      "Progress: |███-----------------------------------------------| 7.3% Complete"
     ]
    },
    {
     "name": "stderr",
     "output_type": "stream",
     "text": [
      "c:\\users\\joech\\pycharmprojects\\pythonproject1\\venv\\lib\\site-packages\\pandapower\\control\\util\\auxiliary.py:130: FutureWarning: Index.__and__ operating as a set operation is deprecated, in the future this will be a logical operation matching Series.__and__.  Use index.intersection(other) instead\n",
      "  idx &= net.controller.index[net.controller[df_key] == parameters[df_key]]\n"
     ]
    },
    {
     "name": "stdout",
     "output_type": "stream",
     "text": [
      "Progress: |██████████████████████████████████████████████████| 100.0% Complete\n",
      "\n",
      "Progress: |██------------------------------------------------| 5.2% Complete"
     ]
    },
    {
     "name": "stderr",
     "output_type": "stream",
     "text": [
      "c:\\users\\joech\\pycharmprojects\\pythonproject1\\venv\\lib\\site-packages\\pandapower\\control\\util\\auxiliary.py:130: FutureWarning: Index.__and__ operating as a set operation is deprecated, in the future this will be a logical operation matching Series.__and__.  Use index.intersection(other) instead\n",
      "  idx &= net.controller.index[net.controller[df_key] == parameters[df_key]]\n"
     ]
    },
    {
     "name": "stdout",
     "output_type": "stream",
     "text": [
      "Progress: |██████████████████████████████████████████████████| 100.0% Complete\n",
      "\n",
      "Progress: |███-----------------------------------------------| 7.3% Complete"
     ]
    },
    {
     "name": "stderr",
     "output_type": "stream",
     "text": [
      "c:\\users\\joech\\pycharmprojects\\pythonproject1\\venv\\lib\\site-packages\\pandapower\\control\\util\\auxiliary.py:130: FutureWarning: Index.__and__ operating as a set operation is deprecated, in the future this will be a logical operation matching Series.__and__.  Use index.intersection(other) instead\n",
      "  idx &= net.controller.index[net.controller[df_key] == parameters[df_key]]\n"
     ]
    },
    {
     "name": "stdout",
     "output_type": "stream",
     "text": [
      "Progress: |██████████████████████████████████████████████████| 100.0% Complete\n",
      "\n",
      "Progress: |███-----------------------------------------------| 6.2% Complete"
     ]
    },
    {
     "name": "stderr",
     "output_type": "stream",
     "text": [
      "c:\\users\\joech\\pycharmprojects\\pythonproject1\\venv\\lib\\site-packages\\pandapower\\control\\util\\auxiliary.py:130: FutureWarning: Index.__and__ operating as a set operation is deprecated, in the future this will be a logical operation matching Series.__and__.  Use index.intersection(other) instead\n",
      "  idx &= net.controller.index[net.controller[df_key] == parameters[df_key]]\n"
     ]
    },
    {
     "name": "stdout",
     "output_type": "stream",
     "text": [
      "Progress: |██████████████████████████████████████████████████| 100.0% Complete\n",
      "\n",
      "Progress: |███-----------------------------------------------| 6.2% Complete"
     ]
    },
    {
     "name": "stderr",
     "output_type": "stream",
     "text": [
      "c:\\users\\joech\\pycharmprojects\\pythonproject1\\venv\\lib\\site-packages\\pandapower\\control\\util\\auxiliary.py:130: FutureWarning: Index.__and__ operating as a set operation is deprecated, in the future this will be a logical operation matching Series.__and__.  Use index.intersection(other) instead\n",
      "  idx &= net.controller.index[net.controller[df_key] == parameters[df_key]]\n"
     ]
    },
    {
     "name": "stdout",
     "output_type": "stream",
     "text": [
      "Progress: |██████████████████████████████████████████████████| 100.0% Complete\n",
      "\n",
      "Progress: |███-----------------------------------------------| 7.3% Complete"
     ]
    },
    {
     "name": "stderr",
     "output_type": "stream",
     "text": [
      "c:\\users\\joech\\pycharmprojects\\pythonproject1\\venv\\lib\\site-packages\\pandapower\\control\\util\\auxiliary.py:130: FutureWarning: Index.__and__ operating as a set operation is deprecated, in the future this will be a logical operation matching Series.__and__.  Use index.intersection(other) instead\n",
      "  idx &= net.controller.index[net.controller[df_key] == parameters[df_key]]\n"
     ]
    },
    {
     "name": "stdout",
     "output_type": "stream",
     "text": [
      "Progress: |██████████████████████████████████████████████████| 100.0% Complete\n",
      "\n",
      "Progress: |███-----------------------------------------------| 6.2% Complete"
     ]
    },
    {
     "name": "stderr",
     "output_type": "stream",
     "text": [
      "c:\\users\\joech\\pycharmprojects\\pythonproject1\\venv\\lib\\site-packages\\pandapower\\control\\util\\auxiliary.py:130: FutureWarning: Index.__and__ operating as a set operation is deprecated, in the future this will be a logical operation matching Series.__and__.  Use index.intersection(other) instead\n",
      "  idx &= net.controller.index[net.controller[df_key] == parameters[df_key]]\n"
     ]
    },
    {
     "name": "stdout",
     "output_type": "stream",
     "text": [
      "Progress: |██████████████████████████████████████████████████| 100.0% Complete\n",
      "\n",
      "Progress: |███-----------------------------------------------| 7.3% Complete"
     ]
    },
    {
     "name": "stderr",
     "output_type": "stream",
     "text": [
      "c:\\users\\joech\\pycharmprojects\\pythonproject1\\venv\\lib\\site-packages\\pandapower\\control\\util\\auxiliary.py:130: FutureWarning: Index.__and__ operating as a set operation is deprecated, in the future this will be a logical operation matching Series.__and__.  Use index.intersection(other) instead\n",
      "  idx &= net.controller.index[net.controller[df_key] == parameters[df_key]]\n"
     ]
    },
    {
     "name": "stdout",
     "output_type": "stream",
     "text": [
      "Progress: |██████████████████████████████████████████████████| 100.0% Complete\n",
      "\n",
      "Progress: |███-----------------------------------------------| 7.3% Complete"
     ]
    },
    {
     "name": "stderr",
     "output_type": "stream",
     "text": [
      "c:\\users\\joech\\pycharmprojects\\pythonproject1\\venv\\lib\\site-packages\\pandapower\\control\\util\\auxiliary.py:130: FutureWarning: Index.__and__ operating as a set operation is deprecated, in the future this will be a logical operation matching Series.__and__.  Use index.intersection(other) instead\n",
      "  idx &= net.controller.index[net.controller[df_key] == parameters[df_key]]\n"
     ]
    },
    {
     "name": "stdout",
     "output_type": "stream",
     "text": [
      "Progress: |██████████████████████████████████████████████████| 100.0% Complete\n",
      "\n",
      "Progress: |███-----------------------------------------------| 7.3% Complete"
     ]
    },
    {
     "name": "stderr",
     "output_type": "stream",
     "text": [
      "c:\\users\\joech\\pycharmprojects\\pythonproject1\\venv\\lib\\site-packages\\pandapower\\control\\util\\auxiliary.py:130: FutureWarning: Index.__and__ operating as a set operation is deprecated, in the future this will be a logical operation matching Series.__and__.  Use index.intersection(other) instead\n",
      "  idx &= net.controller.index[net.controller[df_key] == parameters[df_key]]\n"
     ]
    },
    {
     "name": "stdout",
     "output_type": "stream",
     "text": [
      "Progress: |██████████████████████████████████████████████████| 100.0% Complete\n",
      "\n"
     ]
    },
    {
     "data": {
      "text/plain": [
       "3.8671875"
      ]
     },
     "execution_count": 5,
     "metadata": {},
     "output_type": "execute_result"
    }
   ],
   "source": [
    "#Functions for finding maximum capacities\n",
    "#sgen_allcap=pfa.all_cap_map(net,ow=ow, loadorgen='sgen', ul_p=ul_p, ll_p=ll_p, prof='WP4')\n",
    "#load_allcap=pfa.all_cap_map(net,ow=ow, loadorgen='load', ul_p=ul_p, ll_p=ll_p, prof='L0-A')\n",
    "\n",
    "#The all_cap_map function is max_cap looped for all busses so try below functions for quick results.\n",
    "pfa.max_cap(net,ow=ow,conn_at_bus=92, loadorgen='sgen',ul_p=ul_p, ll_p=ll_p, prof='WP4')\n",
    "#pfa.max_cap(net,ow=ow,conn_at_bus=95, loadorgen='load',ul_p=ul_p, ll_p=ll_p, prof='L0-A')\n",
    "#pfa.sing_res(net,ow=ow,conn_at_bus=95, loadorgen='load',size_p=10,size_q=0.1, prof='L0-A')"
   ]
  },
  {
   "cell_type": "markdown",
   "metadata": {
    "ExecuteTime": {
     "end_time": "2021-03-22T11:54:48.199602Z",
     "start_time": "2021-03-22T11:54:48.178659Z"
    }
   },
   "source": [
    "## Visualisation"
   ]
  },
  {
   "cell_type": "code",
   "execution_count": 6,
   "metadata": {},
   "outputs": [],
   "source": [
    "net.load['max_load']=pd.read_csv(\"sampdata/samp_load_allcap.csv\")['max_add_cap']\n",
    "net.sgen['max_sgen']=pd.read_csv(\"sampdata/samp_sgen_allcap.csv\")['max_add_cap']\n",
    "# Or just initialize to random values\n",
    "#net.sgen['max_sgen']=np.random.randint(0,100,net.sgen.shape[0])\n",
    "#net.load['max_load']=np.random.randint(0,100,net.load.shape[0])"
   ]
  },
  {
   "cell_type": "code",
   "execution_count": 7,
   "metadata": {
    "ExecuteTime": {
     "end_time": "2021-03-22T19:45:29.181210Z",
     "start_time": "2021-03-22T19:45:28.748933Z"
    }
   },
   "outputs": [
    {
     "ename": "NameError",
     "evalue": "name 'list_length' is not defined",
     "output_type": "error",
     "traceback": [
      "\u001b[1;31m---------------------------------------------------------------------------\u001b[0m",
      "\u001b[1;31mNameError\u001b[0m                                 Traceback (most recent call last)",
      "\u001b[1;32m<ipython-input-7-a87f6261a28e>\u001b[0m in \u001b[0;36m<module>\u001b[1;34m\u001b[0m\n\u001b[0;32m     40\u001b[0m         \u001b[0mid\u001b[0m\u001b[1;33m=\u001b[0m\u001b[1;34m'my-slider'\u001b[0m\u001b[1;33m,\u001b[0m\u001b[1;33m\u001b[0m\u001b[1;33m\u001b[0m\u001b[0m\n\u001b[0;32m     41\u001b[0m         \u001b[0mmin\u001b[0m\u001b[1;33m=\u001b[0m\u001b[1;36m0\u001b[0m\u001b[1;33m,\u001b[0m\u001b[1;33m\u001b[0m\u001b[1;33m\u001b[0m\u001b[0m\n\u001b[1;32m---> 42\u001b[1;33m         \u001b[0mmax\u001b[0m\u001b[1;33m=\u001b[0m\u001b[0mlist_length\u001b[0m\u001b[1;33m,\u001b[0m\u001b[1;33m\u001b[0m\u001b[1;33m\u001b[0m\u001b[0m\n\u001b[0m\u001b[0;32m     43\u001b[0m         \u001b[0mstep\u001b[0m\u001b[1;33m=\u001b[0m\u001b[1;36m1\u001b[0m\u001b[1;33m,\u001b[0m\u001b[1;33m\u001b[0m\u001b[1;33m\u001b[0m\u001b[0m\n\u001b[0;32m     44\u001b[0m         \u001b[0mvalue\u001b[0m\u001b[1;33m=\u001b[0m\u001b[1;36m1\u001b[0m\u001b[1;33m,\u001b[0m\u001b[1;33m\u001b[0m\u001b[1;33m\u001b[0m\u001b[0m\n",
      "\u001b[1;31mNameError\u001b[0m: name 'list_length' is not defined"
     ]
    }
   ],
   "source": [
    "# Required excuting pfa.max_cap() above to generate the grpgh\n",
    "\n",
    "# extract time-series values\n",
    "networks, figures = viz.generate_graph_data(net)\n",
    "\n",
    "# take the correct order for slider\n",
    "list_length = len(networks)-1\n",
    "\n",
    "app = dash.Dash(__name__)\n",
    "\n",
    "# ------------------------------------------------------------------------------\n",
    "# App layout\n",
    "app.layout = html.Div([\n",
    "\n",
    "    html.H1(\"Capacity Map with Dash component Testing\", style={'text-align': 'center'}),\n",
    "\n",
    "    dcc.Dropdown(id=\"slct_year\",\n",
    "                 options=[\n",
    "                     {\"label\": \"2015\", \"value\": 2015},\n",
    "                     {\"label\": \"2016\", \"value\": 2016},\n",
    "                     {\"label\": \"2017\", \"value\": 2017},\n",
    "                     {\"label\": \"2018\", \"value\": 2018}],\n",
    "                 multi=False,\n",
    "                 value=2015,\n",
    "                 style={'width': \"40%\"}\n",
    "                 ),\n",
    "\n",
    "    html.Br(),\n",
    "\n",
    "    dcc.Graph(id='my_powerFlow_graph',\n",
    "              style={\n",
    "                  \"margin-left\": \"auto\",\n",
    "                  \"margin-right\": \"auto\",\n",
    "              },\n",
    "              figure={}),\n",
    "    html.Div(id='output_container_slider', children=[]),\n",
    "    html.Br(),\n",
    "\n",
    "    dcc.Slider(\n",
    "        id='my-slider',\n",
    "        min=0,\n",
    "        max=list_length,\n",
    "        step=1,\n",
    "        value=1,\n",
    "    ),\n",
    "\n",
    "],\n",
    "    # putting Style for the whole html.div block and it works!!!\n",
    "style={'width': '50%','padding-left':'25%', 'padding-right':'25%'},\n",
    ")\n",
    "\n",
    "\n",
    "# ------------------------------------------------------------------------------\n",
    "# Connect the Plotly graphs with Dash Components\n",
    "@app.callback(\n",
    "    [Output(component_id='output_container_slider', component_property='children'),\n",
    "     Output(component_id='my_powerFlow_graph', component_property='figure')],\n",
    "    [Input(component_id='slct_year', component_property='value'),\n",
    "     Input(component_id = 'my-slider',component_property='value')]\n",
    ")\n",
    "def update_graph(option_slctd, slider_slctd):\n",
    "    print(option_slctd)\n",
    "    print(type(option_slctd))\n",
    "\n",
    "    container = \"The year chosen by user was: {}\".format(option_slctd)\n",
    "    container_slider = \"The time interval chosen by user was: {}\".format(slider_slctd)\n",
    "\n",
    "    fig_power = figures[slider_slctd]\n",
    "\n",
    "    # 上面的output對應到這邊的return，是按照順序的\n",
    "    # The output is correspoding to the return value below, by order\n",
    "    return container_slider, fig_power\n",
    "\n",
    "\n",
    "# ------------------------------------------------------------------------------\n",
    "if __name__ == '__main__':\n",
    "    app.run_server(debug=True,use_reloader=False,port=3004)"
   ]
  },
  {
   "cell_type": "code",
   "execution_count": null,
   "metadata": {
    "collapsed": false,
    "jupyter": {
     "outputs_hidden": false
    },
    "pycharm": {
     "name": "#%%\n"
    }
   },
   "outputs": [],
   "source": []
  }
 ],
 "metadata": {
  "kernelspec": {
   "display_name": "Python 3",
   "language": "python",
   "name": "python3"
  },
  "language_info": {
   "codemirror_mode": {
    "name": "ipython",
    "version": 3
   },
   "file_extension": ".py",
   "mimetype": "text/x-python",
   "name": "python",
   "nbconvert_exporter": "python",
   "pygments_lexer": "ipython3",
   "version": "3.8.7"
  },
  "toc": {
   "base_numbering": 1,
   "nav_menu": {
    "height": "155px",
    "width": "190px"
   },
   "number_sections": true,
   "sideBar": true,
   "skip_h1_title": false,
   "title_cell": "Table of Contents",
   "title_sidebar": "Contents",
   "toc_cell": false,
   "toc_position": {
    "height": "calc(100% - 180px)",
    "left": "10px",
    "top": "150px",
    "width": "165px"
   },
   "toc_section_display": true,
   "toc_window_display": true
  },
  "varInspector": {
   "cols": {
    "lenName": 16,
    "lenType": 16,
    "lenVar": 40
   },
   "kernels_config": {
    "python": {
     "delete_cmd_postfix": "",
     "delete_cmd_prefix": "del ",
     "library": "var_list.py",
     "varRefreshCmd": "print(var_dic_list())"
    },
    "r": {
     "delete_cmd_postfix": ") ",
     "delete_cmd_prefix": "rm(",
     "library": "var_list.r",
     "varRefreshCmd": "cat(var_dic_list()) "
    }
   },
   "oldHeight": 494.4,
   "position": {
    "height": "40px",
    "left": "1122px",
    "right": "20px",
    "top": "120px",
    "width": "394px"
   },
   "types_to_exclude": [
    "module",
    "function",
    "builtin_function_or_method",
    "instance",
    "_Feature"
   ],
   "varInspector_section_display": "none",
   "window_display": true
  }
 },
 "nbformat": 4,
 "nbformat_minor": 4
}
