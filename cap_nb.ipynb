{
 "cells": [
  {
   "cell_type": "markdown",
   "metadata": {},
   "source": [
    "## Set Parameters"
   ]
  },
  {
   "cell_type": "markdown",
   "metadata": {},
   "source": [
    "### Input Grid"
   ]
  },
  {
   "cell_type": "code",
   "execution_count": null,
   "metadata": {
    "ExecuteTime": {
     "end_time": "2021-03-19T10:49:12.131221Z",
     "start_time": "2021-03-19T10:49:11.917274Z"
    }
   },
   "outputs": [],
   "source": [
    "'''\n",
    "Input grid for developing code is sb_code1\n",
    "sb_code2 is the larger grid to test the code\n",
    "Initial values of the loads and generation are stored\n",
    "Maximum voltage limits are relaxed for testing sample code since the limit gets violated for the test grid without adding any capacity\n",
    "'''\n",
    "sb_code1 = \"1-MV-rural--1-sw\"  # rural MV grid of scenario 0 with full switchs\n",
    "sb_code2 = \"1-HVMV-urban-all-0-sw\"  # urban hv grid with one connected mv grid which has the subnet 2.202\n",
    "net = sb.get_simbench_net(sb_code1)\n",
    "net.bus.max_vm_pu=net.bus.max_vm_pu*1.05\n",
    "initload=net.load[['p_mw','q_mvar']]\n",
    "initsgen=net.sgen[['p_mw','q_mvar']]\n",
    "init_cap_l=[len(net.load) , len(net.sgen)]"
   ]
  },
  {
   "cell_type": "markdown",
   "metadata": {},
   "source": [
    "### Other parameters"
   ]
  },
  {
   "cell_type": "code",
   "execution_count": null,
   "metadata": {
    "ExecuteTime": {
     "end_time": "2021-03-19T10:49:12.320182Z",
     "start_time": "2021-03-19T10:49:12.304219Z"
    }
   },
   "outputs": [],
   "source": [
    "'''\n",
    "time_steps:Set time steps in range for the timeseries module to compute over. \n",
    "    This parameter must be of same length as the length of profiles.\n",
    "ll_p and ul_p : limits for maximum and minimum capacity that can be added to any bus\n",
    "inp_q: input reactive power for added capacity. Assumed constant\n",
    "tol: Search algorithm tolerance (in MW)\n",
    "output_dir : Set directory for storing the logged varaiables. \n",
    "    Commented output_dir line is for setting directory in the temporary files of the computer.\n",
    "ow: Create the output writer object ow\n",
    "'''\n",
    "time_steps=range(96)\n",
    "ll_p=0\n",
    "ul_p=90\n",
    "inp_q=0.1\n",
    "s_tol=0.005\n",
    "\n",
    "#output_dir = os.path.join(tempfile.gettempdir(), \"simp_cap_v3\")\n",
    "output_dir = os.path.join('C:\\\\Users\\\\nitbh\\\\OneDrive\\\\Documents\\\\IIPNB', \"simp_cap_v3\")\n",
    "if not os.path.exists(output_dir):\n",
    "    os.mkdir(output_dir)\n",
    "ow=define_log()   #For logging variables\n"
   ]
  },
  {
   "cell_type": "markdown",
   "metadata": {},
   "source": [
    "## Set Input"
   ]
  },
  {
   "cell_type": "code",
   "execution_count": null,
   "metadata": {
    "ExecuteTime": {
     "end_time": "2021-03-19T10:49:13.387271Z",
     "start_time": "2021-03-19T10:49:13.378264Z"
    }
   },
   "outputs": [],
   "source": [
    "'''\n",
    "Sample input. Use as needed\n",
    "prof and loadorgen are needed for getting the map\n",
    "Others are needed in case of individual capacity checks\n",
    "'''\n",
    "#size_pmw=10\n",
    "#size_qmw=0.05\n",
    "loadorgen='sgen'\n",
    "#prof='L0-A'\n",
    "prof='WP4'\n",
    "#conn_at_bus=2"
   ]
  },
  {
   "cell_type": "markdown",
   "metadata": {},
   "source": [
    "## Get Map / PFA"
   ]
  },
  {
   "cell_type": "markdown",
   "metadata": {},
   "source": [
    "All_cap_map takes lot of time to calculate capacities of an entire map. Try using inner functions one at a time"
   ]
  },
  {
   "cell_type": "code",
   "execution_count": null,
   "metadata": {
    "ExecuteTime": {
     "end_time": "2021-03-19T10:48:03.082479Z",
     "start_time": "2021-03-19T10:48:03.071496Z"
    },
    "scrolled": true
   },
   "outputs": [],
   "source": [
    "#sgen_allcap=all_cap_map(net,ow=ow, loadorgen='sgen', ul_p=ul_p, ll_p=ll_p, prof='WP4')\n",
    "#max_cap(net,ow=ow,conn_at_bus=92, loadorgen='sgen',ul_p=ul_p, ll_p=ll_p, prof='WP4')\n",
    "#max_cap(net,ow=ow,conn_at_bus=95, loadorgen='load',ul_p=ul_p, ll_p=ll_p, prof='L0-A')\n",
    "#sing_res(net,ow=ow,conn_at_bus=95, loadorgen='load',size_p=10,size_q=0.1, prof='L0-A')"
   ]
  }
 ],
 "metadata": {
  "kernelspec": {
   "display_name": "Python 3",
   "language": "python",
   "name": "python3"
  },
  "language_info": {
   "codemirror_mode": {
    "name": "ipython",
    "version": 3
   },
   "file_extension": ".py",
   "mimetype": "text/x-python",
   "name": "python",
   "nbconvert_exporter": "python",
   "pygments_lexer": "ipython3",
   "version": "3.8.5"
  },
  "toc": {
   "base_numbering": 1,
   "nav_menu": {
    "height": "155px",
    "width": "190px"
   },
   "number_sections": true,
   "sideBar": true,
   "skip_h1_title": false,
   "title_cell": "Table of Contents",
   "title_sidebar": "Contents",
   "toc_cell": false,
   "toc_position": {
    "height": "calc(100% - 180px)",
    "left": "10px",
    "top": "150px",
    "width": "165px"
   },
   "toc_section_display": true,
   "toc_window_display": true
  },
  "varInspector": {
   "cols": {
    "lenName": 16,
    "lenType": 16,
    "lenVar": 40
   },
   "kernels_config": {
    "python": {
     "delete_cmd_postfix": "",
     "delete_cmd_prefix": "del ",
     "library": "var_list.py",
     "varRefreshCmd": "print(var_dic_list())"
    },
    "r": {
     "delete_cmd_postfix": ") ",
     "delete_cmd_prefix": "rm(",
     "library": "var_list.r",
     "varRefreshCmd": "cat(var_dic_list()) "
    }
   },
   "oldHeight": 494.4,
   "position": {
    "height": "40px",
    "left": "1122px",
    "right": "20px",
    "top": "120px",
    "width": "394px"
   },
   "types_to_exclude": [
    "module",
    "function",
    "builtin_function_or_method",
    "instance",
    "_Feature"
   ],
   "varInspector_section_display": "none",
   "window_display": true
  }
 },
 "nbformat": 4,
 "nbformat_minor": 4
}
