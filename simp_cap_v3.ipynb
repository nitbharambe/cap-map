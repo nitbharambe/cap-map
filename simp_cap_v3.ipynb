{
 "cells": [
  {
   "cell_type": "markdown",
   "metadata": {},
   "source": [
    "## Import Libraries"
   ]
  },
  {
   "cell_type": "code",
   "execution_count": 64,
   "metadata": {
    "ExecuteTime": {
     "end_time": "2021-03-02T10:53:58.675068Z",
     "start_time": "2021-03-02T10:53:58.656109Z"
    }
   },
   "outputs": [],
   "source": [
    "#Install libraries if using google colab\n",
    "#pip install pandapower\n",
    "#pip install simbench"
   ]
  },
  {
   "cell_type": "code",
   "execution_count": 10,
   "metadata": {
    "ExecuteTime": {
     "end_time": "2021-03-07T15:47:07.166543Z",
     "start_time": "2021-03-07T15:47:07.132632Z"
    }
   },
   "outputs": [],
   "source": [
    "#Import the pandapower and the networks module:\n",
    "import pandapower as pp\n",
    "import pandapower.networks as nw\n",
    "import simbench as sb\n",
    "import pandas as pd\n",
    "import numpy as np\n",
    "import os, sys, time\n",
    "'''\n",
    "#Plotting\n",
    "from pandapower.plotting.plotly.mapbox_plot import set_mapbox_token\n",
    "from pandapower.plotting.plotly import simple_plotly, pf_res_plotly, vlevel_plotly\n",
    "import matplotlib.pyplot as plt\n",
    "import pandapower.plotting as plot\n",
    "import pandapower.plotting.plotly as pplotly\n",
    "try:\n",
    "    import seaborn\n",
    "    colors = seaborn.color_palette()\n",
    "except:\n",
    "    colors = [\"b\", \"g\", \"r\", \"c\", \"y\"]\n",
    "%matplotlib inline\n",
    "'''\n",
    "#Timeseries\n",
    "import tempfile\n",
    "from pandapower.control import ConstControl\n",
    "from pandapower.timeseries import DFData\n",
    "from pandapower.timeseries import OutputWriter\n",
    "from pandapower.timeseries.run_time_series import run_timeseries"
   ]
  },
  {
   "cell_type": "markdown",
   "metadata": {},
   "source": [
    "## Define Functions"
   ]
  },
  {
   "cell_type": "code",
   "execution_count": 24,
   "metadata": {
    "ExecuteTime": {
     "end_time": "2021-03-07T16:25:52.637849Z",
     "start_time": "2021-03-07T16:25:52.596993Z"
    },
    "code_folding": []
   },
   "outputs": [],
   "source": [
    "def init_net():\n",
    "    '''\n",
    "    Drops any added load/generation\n",
    "    Initialization of load and generation p_mw and q_mvar is needed because the run_timeseries replaces them after every iteration\n",
    "    Drops Constcontrol objects created by sb.apply_cost_controllers\n",
    "    \n",
    "    OUTPUT - \n",
    "        net- Pandapower network with initial values\n",
    "    '''\n",
    "    net.load=net.load.head(init_cap_l[0])\n",
    "    net.sgen=net.sgen.head(init_cap_l[1])\n",
    "    net.load[['p_mw','q_mvar']]=initload\n",
    "    net.sgen[['p_mw','q_mvar']]=initsgen\n",
    "    net.controller=net.controller.iloc[0:0]\n",
    "    return net\n",
    "\n",
    "def define_log():\n",
    "    '''\n",
    "    Creates output writer object required for timeseries simulation\n",
    "    The timeseries module only calculates the values of variables mentioned here for each simulation. \n",
    "    The temporary data gets stored in the output_dir directory\n",
    "    \n",
    "    OUTPUT\n",
    "        ow - Output writer object\n",
    "    '''\n",
    "    ow = OutputWriter(net, time_steps, output_path=output_dir, output_file_type=\".json\")    \n",
    "    ow.log_variable('res_bus','vm_pu')\n",
    "    ow.log_variable('res_line', 'loading_percent')\n",
    "    ow.log_variable('res_trafo', 'loading_percent')\n",
    "    return ow\n",
    "\n",
    "def add_loadgen(net_t, loadorgen, conn_at_bus, size_p,size_q,prof):\n",
    "    '''\n",
    "    Adds a load or generation to the net.load or net.sgen table. \n",
    "    Adds profile name to the profiles variable of the newly addded capacity.\n",
    "\n",
    "    INPUT\n",
    "        net_t (PP net) - Pandapower net\n",
    "        loadorgen (str) - 'sgen' or 'load' for generation or load for additional capacity connected\n",
    "        conn_at_bus (int) - Bus at which additional capacity is connected\n",
    "        prof (str) - Name of the profile. Must be available in the net.profiles of the input grid\n",
    "        \n",
    "    OUTPUT\n",
    "        net_t (PP net) - Updated Pandapower net\n",
    "        \n",
    "    '''\n",
    "    if loadorgen==\"load\":\n",
    "        pp.create_load(net_t, conn_at_bus, p_mw=size_p, q_mvar=size_q)\n",
    "        net_t.load.tail(1).profile=prof\n",
    "    elif loadorgen==\"sgen\":\n",
    "        pp.create_sgen(net_t, conn_at_bus, p_mw=size_p, q_mvar=size_q)\n",
    "        net_t.sgen.tail(1).profile=prof\n",
    "    else:\n",
    "        return 0\n",
    "    return net_t\n",
    "\n",
    "def load_files():\n",
    "    '''\n",
    "    Loads files of previous TS simulation\n",
    "    \n",
    "    OUTPUT\n",
    "        vm_pu,line_load,trafo_load (tuple) - Previous results of timeseries\n",
    "    '''\n",
    "    vm_pu_file = os.path.join(output_dir, \"res_bus\", \"vm_pu.json\")\n",
    "    vm_pu = pd.read_json(vm_pu_file)\n",
    "    line_load_file = os.path.join(output_dir, \"res_line\", \"loading_percent.json\")\n",
    "    line_load = pd.read_json(line_load_file)\n",
    "    trafo_load_file = os.path.join(output_dir, \"res_trafo\", \"loading_percent.json\")\n",
    "    trafo_load = pd.read_json(trafo_load_file)\n",
    "    return vm_pu,line_load,trafo_load\n",
    "\n",
    "def violations_long(net):\n",
    "    '''\n",
    "    Checks for any violations created in the grid by additional capacity and returns tuple with the details\n",
    "    Loads the files created by timeseries simulation. Compares simulation values against the limits mentioned in the input grid.\n",
    "    \n",
    "    INPUT\n",
    "        net (PP net) - Pandapower net\n",
    "        \n",
    "    OUTPUT\n",
    "        check (bool) - tuple of violations with details\n",
    "        \n",
    "    '''\n",
    "    [vm_pu,line_load,trafo_load]=load_files()\n",
    "\n",
    "    pf_vm_extremes=pd.DataFrame(vm_pu.max())\n",
    "    pf_vm_extremes.columns=['pf_max_vm_pu']\n",
    "    pf_vm_extremes['pf_min_vm_pu']=vm_pu.min()\n",
    "    vm_pu_check = net.bus[['name','vn_kv','min_vm_pu','max_vm_pu']].join( pf_vm_extremes)\n",
    "    vm_pu_check = vm_pu_check[(vm_pu_check.pf_max_vm_pu>vm_pu_check.max_vm_pu) | (vm_pu_check.pf_min_vm_pu<vm_pu_check.min_vm_pu)] \n",
    "\n",
    "    pf_line_extremes=pd.DataFrame(line_load.max())\n",
    "    pf_line_extremes.columns=['pf_max_loading_percent']\n",
    "    line_load_check = net.line[['name','from_bus','to_bus','max_loading_percent']].join( pf_line_extremes)\n",
    "    line_load_check = line_load_check[(line_load_check.pf_max_loading_percent>line_load_check.max_loading_percent)] \n",
    "\n",
    "    pf_trafo_extremes=pd.DataFrame(trafo_load.max())\n",
    "    pf_trafo_extremes.columns=['pf_max_loading_percent']\n",
    "    trafo_load_check = net.trafo[['name','sn_mva','max_loading_percent']].join( pf_trafo_extremes)\n",
    "    trafo_load_check = trafo_load_check[(trafo_load_check.pf_max_loading_percent>trafo_load_check.max_loading_percent)] \n",
    "    \n",
    "    return  vm_pu_check,line_load_check, trafo_load_check\n",
    "\n",
    "def violations(net):\n",
    "    '''\n",
    "    Checks for any violations created in the grid by additional capacity.\n",
    "    Loads the files created by timeseries simulation. Compares simulation values against the limits mentioned in the input grid.\n",
    "    \n",
    "    TODO: Create separate violations function for individual input. (Already done, might have to include it here)\n",
    "    \n",
    "    INPUT\n",
    "        net (PP net) - Pandapower net\n",
    "        \n",
    "    OUTPUT\n",
    "        check (bool) - 'True' for no violations. 'False' for violations present\n",
    "        \n",
    "    '''\n",
    "    [vm_pu,line_load,trafo_load]=load_files()\n",
    "\n",
    "    check = any(np.where(vm_pu.max() > net.bus['max_vm_pu'],True, False))\n",
    "    check = check or any(np.where(vm_pu.min() < net.bus['min_vm_pu'],True, False))\n",
    "    check = check or any(np.where(line_load.max() > net.line['max_loading_percent'],True, False))\n",
    "    check = check or any(np.where(trafo_load.max() > net.trafo['max_loading_percent'],True, False))\n",
    "    return not check\n",
    "\n",
    "\n",
    "def feas_chk(net,ow,conn_at_bus,loadorgen, size_p, size_q, prof):\n",
    "    '''\n",
    "    Initializes the PPnet, \n",
    "    Adds additional capacity, \n",
    "    applies load/generation profiles on all the grid elements,\n",
    "    runs timeseries for the specific case and save the results in the temporary output directory,\n",
    "    Checks for violations\n",
    "\n",
    "    BUG: More like pending TODO. Doesnt work for loads. Need to check process of how profiles from simbench are actually \n",
    "    getting applied to Constcontrol know the fix. Also will lead to finding how profiles from input will be applied on \n",
    "    the input grid.\n",
    "    TODO: suppress/workaround printing of individual progress bars\n",
    "    \n",
    "    INPUT\n",
    "        net (PP net) - Pandapower net\n",
    "        ow (Object) - Output writer object\n",
    "        loadorgen (str) - 'sgen' or 'load' for generation or load for additional capacity connected\n",
    "        conn_at_bus (int) - Bus at which additional capacity is connected\n",
    "        size_p (int) - Size of active power of additional capacity\n",
    "        size_q (int) - Size of reactive power of additional capacity\n",
    "        prof (str) - Name of the profile. Must be available in the net.profiles of the input grid\n",
    "        \n",
    "    OUTPUT\n",
    "        feas_result (bool) - 'True' for feasible, 'False' for not feasible\n",
    "        \n",
    "    '''\n",
    "    net=init_net()\n",
    "    net=add_loadgen(net, loadorgen, conn_at_bus, size_p,size_q, prof)\n",
    "    profiles = sb.get_absolute_values(net, profiles_instead_of_study_cases=True)\n",
    "    sb.apply_const_controllers(net, profiles)    #create timeseries data from profiles and run powerflow\n",
    "    run_timeseries(net,time_steps,continue_on_divergence=True,verbose=True)               #Run powerflow only over time_steps\n",
    "    feas_result=violations(net)\n",
    "    return feas_result\n",
    "\n",
    "def max_cap(net,ow,conn_at_bus,loadorgen,ul_p,ll_p,prof):\n",
    "    '''\n",
    "    Seach algorithm using feas_chk function over the range of ll_p and ul_p capacities\n",
    "    \n",
    "    TODO: Speed up, Try changing ul_p and ll_p as per voltage levels\n",
    "    \n",
    "    INPUT\n",
    "        net (PP net) - Pandapower net\n",
    "        ow (Object) - Output writer object\n",
    "        loadorgen (str) - 'sgen' or 'load' for generation or load for additional capacity connected\n",
    "        conn_at_bus (int) - Bus at which additional capacity is connected\n",
    "        ll_p (int) - Size of maximum power limit of additional capacity that can be added\n",
    "        ul_p (int) - Size of minimum additional capacity that can be added (Set as 0)\n",
    "        prof (str) - Name of the profile. Must be available in the net.profiles of the input grid\n",
    "        \n",
    "    OUTPUT\n",
    "         (int) - Maximum capacitiy of load/generation that can be added at given bus\n",
    "        \n",
    "    '''\n",
    "    no_iter=0\n",
    "    [ul_chk,mid_chk,ll_chk]=False,False,False\n",
    "    while not( ((ul_p-ll_p)<s_tol) | (ul_chk & mid_chk) | (no_iter>7) ):\n",
    "        no_iter=no_iter+1\n",
    "        mid_p=(ul_p+ll_p)/2\n",
    "        ul_chk=feas_chk(net,ow,conn_at_bus,loadorgen, size_p=ul_p, size_q=inp_q,prof=prof)\n",
    "        mid_chk=feas_chk(net,ow,conn_at_bus,loadorgen, size_p=mid_p, size_q=inp_q,prof=prof)\n",
    "        if mid_chk==True:\n",
    "            ll_p=mid_p\n",
    "        elif mid_chk==False:\n",
    "            ul_p=mid_p\n",
    "        elif ul_chk:\n",
    "            return ul_p\n",
    "            break\n",
    "    return ll_p\n",
    "'''\n",
    "def printProgressBar(iteration, total, prefix = '', suffix = '', decimals = 1, length = 100, fill = '█', printEnd = \"\\r\"):\n",
    "    \"\"\"\n",
    "    https://stackoverflow.com/questions/3173320/text-progress-bar-in-the-console\n",
    "    \n",
    "    Call in a loop to create terminal progress bar\n",
    "    @params:\n",
    "        iteration   - Required  : current iteration (Int)\n",
    "        total       - Required  : total iterations (Int)\n",
    "        prefix      - Optional  : prefix string (Str)\n",
    "        suffix      - Optional  : suffix string (Str)\n",
    "        decimals    - Optional  : positive number of decimals in percent complete (Int)\n",
    "        length      - Optional  : character length of bar (Int)\n",
    "        fill        - Optional  : bar fill character (Str)\n",
    "        printEnd    - Optional  : end character (e.g. \"\\r\", \"\\r\\n\") (Str)\n",
    "    \"\"\"\n",
    "    percent = (\"{0:.\" + str(decimals) + \"f}\").format(100 * (iteration / float(total)))\n",
    "    filledLength = int(length * iteration // total)\n",
    "    bar = fill * filledLength + '-' * (length - filledLength)\n",
    "    print(f'\\r{prefix} |{bar}| {percent}% {suffix}', end = printEnd)\n",
    "    # Print New Line on Complete\n",
    "    if iteration == total: \n",
    "        print()\n",
    "'''\n",
    "def printProgressBar(iteration, total, prefix='', suffix='', decimals=1, length=100, fill='█'):\n",
    "    \"\"\"\n",
    "    Call in a loop to create terminal progress bar.\n",
    "    the code is mentioned in : https://stackoverflow.com/questions/3173320/text-progress-bar-in-the-console\n",
    "    \"\"\"\n",
    "    percent = (\"{0:.\" + str(decimals) + \"f}\").format(100 * (iteration / float(total)))\n",
    "    filled_length = int(length * iteration // total)\n",
    "    bar = fill * filled_length + '-' * (length - filled_length)\n",
    "    #logger.info('\\r%s |%s| %s%% %s' % (prefix, bar, percent, suffix))\n",
    "    print('\\r%s |%s| %s%% %s' % (prefix, bar, percent, suffix), end=\"\")\n",
    "    # Print New Line on Complete\n",
    "    if iteration == total:\n",
    "        print(\"\\n\")\n",
    "\n",
    "def all_cap_map(net,ow,loadorgen,ul_p,ll_p,prof):\n",
    "    '''\n",
    "    Iteratre the max_cap function over all busses in the grid. \n",
    "    \n",
    "    TODO: Add progess bar\n",
    "    \n",
    "    INPUT\n",
    "        net (PP net) - Pandapower net\n",
    "        ow (Object) - Output writer object\n",
    "        loadorgen (str) - 'sgen' or 'load' for generation or load for additional capacity connected\n",
    "        ll_p (int) - Size of maximum power limit of additional capacity that can be added\n",
    "        ul_p (int) - Size of minimum additional capacity that can be added (Set as 0)\n",
    "        prof (str) - Name of the profile. Must be available in the net.profiles of the input grid\n",
    "        \n",
    "    OUTPUT\n",
    "         allcap (dataframe) - Maximum capacitiy of load/generation that can be added at all buses\n",
    "    \n",
    "    '''\n",
    "    len_items=len(net.bus)\n",
    "    items = list(range(0, len_items))\n",
    "    printProgressBar(0, len_items, prefix = 'Progress:', suffix = 'Complete', length = 50)\n",
    "    allcap=net.bus[['name','vn_kv']]\n",
    "    allcap['max_add_cap']=np.nan\n",
    "    for i,conn_at_bus in enumerate(items):\n",
    "        allcap['max_add_cap'][conn_at_bus]=max_cap(net,ow=ow,conn_at_bus=conn_at_bus,loadorgen=loadorgen,ul_p=ul_p,ll_p=ll_p,prof=prof)\n",
    "        printProgressBar(i + 1, len_items, prefix = 'Progress:', suffix = 'Complete', length = 50)\n",
    "    return allcap\n",
    "\n",
    "def sing_res(net,ow,conn_at_bus,loadorgen, size_p, size_q, prof):\n",
    "    '''\n",
    "    Same as feas_chk. Only difference is that instead of returning bool it returns tuple with results\n",
    "    Initializes the PPnet, \n",
    "    Adds additional capacity, \n",
    "    applies load/generation profiles on all the grid elements,\n",
    "    runs timeseries for the specific case and save the results in the temporary output directory,\n",
    "    Checks for violations\n",
    "\n",
    "    BUG: More like pending to do. Doesnt work for loads. Need to check process of how profiles from simbench are actually \n",
    "    getting applied to Constcontrol know the fix. Also will lead to finding how profiles from input will be applied on \n",
    "    the input grid.\n",
    "    TODO: suppress/workaround printing of individual progress bars\n",
    "    \n",
    "    INPUT\n",
    "        net (PP net) - Pandapower net\n",
    "        ow (Object) - Output writer object\n",
    "        loadorgen (str) - 'sgen' or 'load' for generation or load for additional capacity connected\n",
    "        conn_at_bus (int) - Bus at which additional capacity is connected\n",
    "        size_p (int) - Size of active power of additional capacity\n",
    "        size_q (int) - Size of reactive power of additional capacity\n",
    "        prof (str) - Name of the profile. Must be available in the net.profiles of the input grid\n",
    "        \n",
    "    OUTPUT\n",
    "        result (tuple) - violations details\n",
    "        \n",
    "    '''\n",
    "    net=init_net()\n",
    "    net=add_loadgen(net, loadorgen, conn_at_bus, size_p,size_q, prof)\n",
    "    profiles = sb.get_absolute_values(net, profiles_instead_of_study_cases=True)\n",
    "    sb.apply_const_controllers(net, profiles)    #create timeseries data from profiles and run powerflow\n",
    "    run_timeseries(net,time_steps,continue_on_divergence=True,verbose=True)               #Run powerflow only over time_steps\n",
    "    result=violations_long(net)\n",
    "    return result\n",
    "\n"
   ]
  },
  {
   "cell_type": "markdown",
   "metadata": {},
   "source": [
    "## Set Parameters"
   ]
  },
  {
   "cell_type": "markdown",
   "metadata": {},
   "source": [
    "### Input Grid"
   ]
  },
  {
   "cell_type": "code",
   "execution_count": 12,
   "metadata": {
    "ExecuteTime": {
     "end_time": "2021-03-07T15:47:13.806507Z",
     "start_time": "2021-03-07T15:47:08.161794Z"
    }
   },
   "outputs": [],
   "source": [
    "'''\n",
    "Input grid for developing code is sb_code1\n",
    "sb_code2 is the larger grid to test the code\n",
    "Initial values of the loads and generation are stored\n",
    "Maximum voltage limits are relaxed for testing sample code since the limit gets violated for the test grid without adding any capacity\n",
    "'''\n",
    "sb_code1 = \"1-MV-rural--1-sw\"  # rural MV grid of scenario 0 with full switchs\n",
    "sb_code2 = \"1-HVMV-urban-all-0-sw\"  # urban hv grid with one connected mv grid which has the subnet 2.202\n",
    "net = sb.get_simbench_net(sb_code1)\n",
    "net.bus.max_vm_pu=net.bus.max_vm_pu*1.05\n",
    "initload=net.load[['p_mw','q_mvar']]\n",
    "initsgen=net.sgen[['p_mw','q_mvar']]\n",
    "init_cap_l=[len(net.load) , len(net.sgen)]"
   ]
  },
  {
   "cell_type": "markdown",
   "metadata": {},
   "source": [
    "### Other parameters"
   ]
  },
  {
   "cell_type": "code",
   "execution_count": 13,
   "metadata": {
    "ExecuteTime": {
     "end_time": "2021-03-07T15:47:13.965087Z",
     "start_time": "2021-03-07T15:47:13.952121Z"
    }
   },
   "outputs": [],
   "source": [
    "'''\n",
    "time_steps:Set time steps in range for the timeseries module to compute over. \n",
    "    This parameter must be of same length as the length of profiles.\n",
    "ll_p and ul_p : limits for maximum and minimum capacity that can be added to any bus\n",
    "inp_q: input reactive power for added capacity. Assumed constant\n",
    "tol: Search algorithm tolerance (in MW)\n",
    "output_dir : Set directory for storing the logged varaiables. \n",
    "    Commented output_dir line is for setting directory in the temporary files of the computer.\n",
    "ow: Create the output writer object ow\n",
    "'''\n",
    "time_steps=range(96)\n",
    "ll_p=0\n",
    "ul_p=90\n",
    "inp_q=0.1\n",
    "s_tol=0.005\n",
    "\n",
    "#output_dir = os.path.join(tempfile.gettempdir(), \"simp_cap_v3\")\n",
    "output_dir = os.path.join('C:\\\\Users\\\\nitbh\\\\OneDrive\\\\Documents\\\\IIPNB', \"simp_cap_v3\")\n",
    "if not os.path.exists(output_dir):\n",
    "    os.mkdir(output_dir)\n",
    "ow=define_log()   #For logging variables\n"
   ]
  },
  {
   "cell_type": "markdown",
   "metadata": {},
   "source": [
    "## Set Input"
   ]
  },
  {
   "cell_type": "code",
   "execution_count": 14,
   "metadata": {
    "ExecuteTime": {
     "end_time": "2021-03-07T15:47:14.105222Z",
     "start_time": "2021-03-07T15:47:14.093254Z"
    }
   },
   "outputs": [],
   "source": [
    "'''\n",
    "Sample input. Use as needed\n",
    "prof and loadorgen are needed for getting the map\n",
    "Others are needed in case of individual capacity checks\n",
    "'''\n",
    "#size_pmw=10\n",
    "#size_qmw=0.05\n",
    "loadorgen='sgen'\n",
    "#prof='L0-A'\n",
    "prof='WP4'\n",
    "#conn_at_bus=2"
   ]
  },
  {
   "cell_type": "markdown",
   "metadata": {},
   "source": [
    "## Get Map"
   ]
  },
  {
   "cell_type": "markdown",
   "metadata": {},
   "source": [
    "All_cap_map takes lot of time to calculate capacities of an entire map. Try using inner functions one at a time"
   ]
  },
  {
   "cell_type": "code",
   "execution_count": 15,
   "metadata": {
    "ExecuteTime": {
     "end_time": "2021-03-07T15:47:14.277759Z",
     "start_time": "2021-03-07T15:47:14.264795Z"
    },
    "scrolled": true
   },
   "outputs": [],
   "source": [
    "#sgen_allcap=all_cap_map(net,ow=ow, loadorgen='sgen', ul_p=ul_p, ll_p=ll_p, prof='WP4')"
   ]
  },
  {
   "cell_type": "code",
   "execution_count": null,
   "metadata": {},
   "outputs": [],
   "source": []
  },
  {
   "cell_type": "code",
   "execution_count": 16,
   "metadata": {
    "ExecuteTime": {
     "end_time": "2021-03-07T15:47:54.084701Z",
     "start_time": "2021-03-07T15:47:14.405419Z"
    },
    "scrolled": true
   },
   "outputs": [
    {
     "name": "stdout",
     "output_type": "stream",
     "text": [
      "Progress: |██████████████████████████████████████████████████| 100.0% Complete\n",
      "\n",
      "Progress: |██████████████████████████████████████████████████| 100.0% Complete\n",
      "\n",
      "Progress: |██████████████████████████████████████████████████| 100.0% Complete\n",
      "\n",
      "Progress: |██████████████████████████████████████████████████| 100.0% Complete\n",
      "\n",
      "Progress: |██████████████████████████████████████████████████| 100.0% Complete\n",
      "\n",
      "Progress: |██████████████████████████████████████████████████| 100.0% Complete\n",
      "\n",
      "Progress: |██████████████████████████████████████████████████| 100.0% Complete\n",
      "\n",
      "Progress: |██████████████████████████████████████████████████| 100.0% Complete\n",
      "\n",
      "Progress: |██████████████████████████████████████████████████| 100.0% Complete\n",
      "\n",
      "Progress: |██████████████████████████████████████████████████| 100.0% Complete\n",
      "\n",
      "Progress: |██████████████████████████████████████████████████| 100.0% Complete\n",
      "\n",
      "Progress: |██████████████████████████████████████████████████| 100.0% Complete\n",
      "\n",
      "Progress: |██████████████████████████████████████████████████| 100.0% Complete\n",
      "\n",
      "Progress: |██████████████████████████████████████████████████| 100.0% Complete\n",
      "\n",
      "Progress: |██████████████████████████████████████████████████| 100.0% Complete\n",
      "\n",
      "Progress: |██████████████████████████████████████████████████| 100.0% Complete\n",
      "\n"
     ]
    },
    {
     "data": {
      "text/plain": [
       "3.8671875"
      ]
     },
     "execution_count": 16,
     "metadata": {},
     "output_type": "execute_result"
    }
   ],
   "source": [
    "max_cap(net,ow=ow,conn_at_bus=92, loadorgen='sgen',ul_p=ul_p, ll_p=ll_p, prof='WP4')"
   ]
  },
  {
   "cell_type": "code",
   "execution_count": 48,
   "metadata": {
    "ExecuteTime": {
     "end_time": "2021-03-01T15:34:11.480105Z",
     "start_time": "2021-03-01T15:31:56.267643Z"
    }
   },
   "outputs": [
    {
     "name": "stderr",
     "output_type": "stream",
     "text": [
      "CalculationNotConverged at time step 0\n",
      "CalculationNotConverged at time step 1\n"
     ]
    },
    {
     "name": "stdout",
     "output_type": "stream",
     "text": [
      "\r",
      "Progress: |--------------------------------------------------| 0.0% Complete\r",
      "Progress: |--------------------------------------------------| 1.0% Complete\r",
      "Progress: |█-------------------------------------------------| 2.1% Complete"
     ]
    },
    {
     "name": "stderr",
     "output_type": "stream",
     "text": [
      "CalculationNotConverged at time step 2\n"
     ]
    },
    {
     "name": "stdout",
     "output_type": "stream",
     "text": [
      "\r",
      "Progress: |█-------------------------------------------------| 3.1% Complete\r",
      "Progress: |██------------------------------------------------| 4.2% Complete"
     ]
    },
    {
     "name": "stderr",
     "output_type": "stream",
     "text": [
      "CalculationNotConverged at time step 3\n"
     ]
    },
    {
     "name": "stdout",
     "output_type": "stream",
     "text": [
      "\r",
      "Progress: |██------------------------------------------------| 5.2% Complete"
     ]
    },
    {
     "name": "stderr",
     "output_type": "stream",
     "text": [
      "CalculationNotConverged at time step 4\n",
      "CalculationNotConverged at time step 5\n"
     ]
    },
    {
     "name": "stdout",
     "output_type": "stream",
     "text": [
      "\r",
      "Progress: |███-----------------------------------------------| 6.2% Complete\r",
      "Progress: |███-----------------------------------------------| 7.3% Complete"
     ]
    },
    {
     "name": "stderr",
     "output_type": "stream",
     "text": [
      "CalculationNotConverged at time step 6\n",
      "CalculationNotConverged at time step 7\n"
     ]
    },
    {
     "name": "stdout",
     "output_type": "stream",
     "text": [
      "\r",
      "Progress: |████----------------------------------------------| 8.3% Complete\r",
      "Progress: |████----------------------------------------------| 9.4% Complete"
     ]
    },
    {
     "name": "stderr",
     "output_type": "stream",
     "text": [
      "CalculationNotConverged at time step 8\n",
      "CalculationNotConverged at time step 9\n"
     ]
    },
    {
     "name": "stdout",
     "output_type": "stream",
     "text": [
      "\r",
      "Progress: |█████---------------------------------------------| 10.4% Complete\r",
      "Progress: |█████---------------------------------------------| 11.5% Complete"
     ]
    },
    {
     "name": "stderr",
     "output_type": "stream",
     "text": [
      "CalculationNotConverged at time step 10\n",
      "CalculationNotConverged at time step 11\n"
     ]
    },
    {
     "name": "stdout",
     "output_type": "stream",
     "text": [
      "\r",
      "Progress: |██████--------------------------------------------| 12.5% Complete\r",
      "Progress: |██████--------------------------------------------| 13.5% Complete"
     ]
    },
    {
     "name": "stderr",
     "output_type": "stream",
     "text": [
      "CalculationNotConverged at time step 12\n",
      "CalculationNotConverged at time step 13\n"
     ]
    },
    {
     "name": "stdout",
     "output_type": "stream",
     "text": [
      "\r",
      "Progress: |███████-------------------------------------------| 14.6% Complete\r",
      "Progress: |███████-------------------------------------------| 15.6% Complete"
     ]
    },
    {
     "name": "stderr",
     "output_type": "stream",
     "text": [
      "CalculationNotConverged at time step 14\n",
      "CalculationNotConverged at time step 15\n"
     ]
    },
    {
     "name": "stdout",
     "output_type": "stream",
     "text": [
      "\r",
      "Progress: |████████------------------------------------------| 16.7% Complete\r",
      "Progress: |████████------------------------------------------| 17.7% Complete"
     ]
    },
    {
     "name": "stderr",
     "output_type": "stream",
     "text": [
      "CalculationNotConverged at time step 16\n",
      "CalculationNotConverged at time step 17\n"
     ]
    },
    {
     "name": "stdout",
     "output_type": "stream",
     "text": [
      "\r",
      "Progress: |█████████-----------------------------------------| 18.8% Complete\r",
      "Progress: |█████████-----------------------------------------| 19.8% Complete"
     ]
    },
    {
     "name": "stderr",
     "output_type": "stream",
     "text": [
      "CalculationNotConverged at time step 18\n",
      "CalculationNotConverged at time step 19\n"
     ]
    },
    {
     "name": "stdout",
     "output_type": "stream",
     "text": [
      "\r",
      "Progress: |██████████----------------------------------------| 20.8% Complete\r",
      "Progress: |██████████----------------------------------------| 21.9% Complete"
     ]
    },
    {
     "name": "stderr",
     "output_type": "stream",
     "text": [
      "CalculationNotConverged at time step 20\n",
      "CalculationNotConverged at time step 21\n"
     ]
    },
    {
     "name": "stdout",
     "output_type": "stream",
     "text": [
      "\r",
      "Progress: |███████████---------------------------------------| 22.9% Complete\r",
      "Progress: |███████████---------------------------------------| 24.0% Complete"
     ]
    },
    {
     "name": "stderr",
     "output_type": "stream",
     "text": [
      "CalculationNotConverged at time step 22\n",
      "CalculationNotConverged at time step 23\n"
     ]
    },
    {
     "name": "stdout",
     "output_type": "stream",
     "text": [
      "\r",
      "Progress: |████████████--------------------------------------| 25.0% Complete\r",
      "Progress: |█████████████-------------------------------------| 26.0% Complete"
     ]
    },
    {
     "name": "stderr",
     "output_type": "stream",
     "text": [
      "CalculationNotConverged at time step 24\n",
      "CalculationNotConverged at time step 25\n"
     ]
    },
    {
     "name": "stdout",
     "output_type": "stream",
     "text": [
      "\r",
      "Progress: |█████████████-------------------------------------| 27.1% Complete\r",
      "Progress: |██████████████------------------------------------| 28.1% Complete"
     ]
    },
    {
     "name": "stderr",
     "output_type": "stream",
     "text": [
      "CalculationNotConverged at time step 26\n",
      "CalculationNotConverged at time step 27\n"
     ]
    },
    {
     "name": "stdout",
     "output_type": "stream",
     "text": [
      "\r",
      "Progress: |██████████████------------------------------------| 29.2% Complete\r",
      "Progress: |███████████████-----------------------------------| 30.2% Complete"
     ]
    },
    {
     "name": "stderr",
     "output_type": "stream",
     "text": [
      "CalculationNotConverged at time step 28\n",
      "CalculationNotConverged at time step 29\n"
     ]
    },
    {
     "name": "stdout",
     "output_type": "stream",
     "text": [
      "\r",
      "Progress: |███████████████-----------------------------------| 31.2% Complete\r",
      "Progress: |████████████████----------------------------------| 32.3% Complete"
     ]
    },
    {
     "name": "stderr",
     "output_type": "stream",
     "text": [
      "CalculationNotConverged at time step 30\n",
      "CalculationNotConverged at time step 31\n"
     ]
    },
    {
     "name": "stdout",
     "output_type": "stream",
     "text": [
      "\r",
      "Progress: |████████████████----------------------------------| 33.3% Complete\r",
      "Progress: |█████████████████---------------------------------| 34.4% Complete"
     ]
    },
    {
     "name": "stderr",
     "output_type": "stream",
     "text": [
      "CalculationNotConverged at time step 32\n",
      "CalculationNotConverged at time step 33\n"
     ]
    },
    {
     "name": "stdout",
     "output_type": "stream",
     "text": [
      "\r",
      "Progress: |█████████████████---------------------------------| 35.4% Complete\r",
      "Progress: |██████████████████--------------------------------| 36.5% Complete"
     ]
    },
    {
     "name": "stderr",
     "output_type": "stream",
     "text": [
      "CalculationNotConverged at time step 34\n",
      "CalculationNotConverged at time step 35\n"
     ]
    },
    {
     "name": "stdout",
     "output_type": "stream",
     "text": [
      "\r",
      "Progress: |██████████████████--------------------------------| 37.5% Complete\r",
      "Progress: |███████████████████-------------------------------| 38.5% Complete"
     ]
    },
    {
     "name": "stderr",
     "output_type": "stream",
     "text": [
      "CalculationNotConverged at time step 36\n",
      "CalculationNotConverged at time step 37\n"
     ]
    },
    {
     "name": "stdout",
     "output_type": "stream",
     "text": [
      "\r",
      "Progress: |███████████████████-------------------------------| 39.6% Complete\r",
      "Progress: |████████████████████------------------------------| 40.6% Complete"
     ]
    },
    {
     "name": "stderr",
     "output_type": "stream",
     "text": [
      "CalculationNotConverged at time step 38\n",
      "CalculationNotConverged at time step 39\n",
      "CalculationNotConverged at time step 40\n"
     ]
    },
    {
     "name": "stdout",
     "output_type": "stream",
     "text": [
      "\r",
      "Progress: |████████████████████------------------------------| 41.7% Complete\r",
      "Progress: |█████████████████████-----------------------------| 42.7% Complete"
     ]
    },
    {
     "name": "stderr",
     "output_type": "stream",
     "text": [
      "CalculationNotConverged at time step 41\n"
     ]
    },
    {
     "name": "stdout",
     "output_type": "stream",
     "text": [
      "\r",
      "Progress: |█████████████████████-----------------------------| 43.8% Complete\r",
      "Progress: |██████████████████████----------------------------| 44.8% Complete"
     ]
    },
    {
     "name": "stderr",
     "output_type": "stream",
     "text": [
      "CalculationNotConverged at time step 42\n",
      "CalculationNotConverged at time step 43\n",
      "CalculationNotConverged at time step 44\n"
     ]
    },
    {
     "name": "stdout",
     "output_type": "stream",
     "text": [
      "\r",
      "Progress: |██████████████████████----------------------------| 45.8% Complete\r",
      "Progress: |███████████████████████---------------------------| 46.9% Complete"
     ]
    },
    {
     "name": "stderr",
     "output_type": "stream",
     "text": [
      "CalculationNotConverged at time step 45\n",
      "CalculationNotConverged at time step 46\n"
     ]
    },
    {
     "name": "stdout",
     "output_type": "stream",
     "text": [
      "\r",
      "Progress: |███████████████████████---------------------------| 47.9% Complete\r",
      "Progress: |████████████████████████--------------------------| 49.0% Complete"
     ]
    },
    {
     "name": "stderr",
     "output_type": "stream",
     "text": [
      "CalculationNotConverged at time step 47\n"
     ]
    },
    {
     "name": "stdout",
     "output_type": "stream",
     "text": [
      "\r",
      "Progress: |█████████████████████████-------------------------| 50.0% Complete\r",
      "Progress: |█████████████████████████-------------------------| 51.0% Complete"
     ]
    },
    {
     "name": "stderr",
     "output_type": "stream",
     "text": [
      "CalculationNotConverged at time step 48\n",
      "CalculationNotConverged at time step 49\n"
     ]
    },
    {
     "name": "stdout",
     "output_type": "stream",
     "text": [
      "\r",
      "Progress: |██████████████████████████------------------------| 52.1% Complete\r",
      "Progress: |██████████████████████████------------------------| 53.1% Complete"
     ]
    },
    {
     "name": "stderr",
     "output_type": "stream",
     "text": [
      "CalculationNotConverged at time step 50\n",
      "CalculationNotConverged at time step 51\n"
     ]
    },
    {
     "name": "stdout",
     "output_type": "stream",
     "text": [
      "\r",
      "Progress: |███████████████████████████-----------------------| 54.2% Complete\r",
      "Progress: |███████████████████████████-----------------------| 55.2% Complete"
     ]
    },
    {
     "name": "stderr",
     "output_type": "stream",
     "text": [
      "CalculationNotConverged at time step 52\n",
      "CalculationNotConverged at time step 53\n"
     ]
    },
    {
     "name": "stdout",
     "output_type": "stream",
     "text": [
      "\r",
      "Progress: |████████████████████████████----------------------| 56.2% Complete\r",
      "Progress: |████████████████████████████----------------------| 57.3% Complete"
     ]
    },
    {
     "name": "stderr",
     "output_type": "stream",
     "text": [
      "CalculationNotConverged at time step 54\n",
      "CalculationNotConverged at time step 55\n"
     ]
    },
    {
     "name": "stdout",
     "output_type": "stream",
     "text": [
      "\r",
      "Progress: |█████████████████████████████---------------------| 58.3% Complete\r",
      "Progress: |█████████████████████████████---------------------| 59.4% Complete"
     ]
    },
    {
     "name": "stderr",
     "output_type": "stream",
     "text": [
      "CalculationNotConverged at time step 56\n",
      "CalculationNotConverged at time step 57\n"
     ]
    },
    {
     "name": "stdout",
     "output_type": "stream",
     "text": [
      "\r",
      "Progress: |██████████████████████████████--------------------| 60.4% Complete\r",
      "Progress: |██████████████████████████████--------------------| 61.5% Complete"
     ]
    },
    {
     "name": "stderr",
     "output_type": "stream",
     "text": [
      "CalculationNotConverged at time step 58\n",
      "CalculationNotConverged at time step 59\n"
     ]
    },
    {
     "name": "stdout",
     "output_type": "stream",
     "text": [
      "\r",
      "Progress: |███████████████████████████████-------------------| 62.5% Complete\r",
      "Progress: |███████████████████████████████-------------------| 63.5% Complete"
     ]
    },
    {
     "name": "stderr",
     "output_type": "stream",
     "text": [
      "CalculationNotConverged at time step 60\n",
      "CalculationNotConverged at time step 61\n"
     ]
    },
    {
     "name": "stdout",
     "output_type": "stream",
     "text": [
      "\r",
      "Progress: |████████████████████████████████------------------| 64.6% Complete\r",
      "Progress: |████████████████████████████████------------------| 65.6% Complete"
     ]
    },
    {
     "name": "stderr",
     "output_type": "stream",
     "text": [
      "CalculationNotConverged at time step 62\n",
      "CalculationNotConverged at time step 63\n"
     ]
    },
    {
     "name": "stdout",
     "output_type": "stream",
     "text": [
      "\r",
      "Progress: |█████████████████████████████████-----------------| 66.7% Complete\r",
      "Progress: |█████████████████████████████████-----------------| 67.7% Complete"
     ]
    },
    {
     "name": "stderr",
     "output_type": "stream",
     "text": [
      "CalculationNotConverged at time step 64\n",
      "CalculationNotConverged at time step 65\n"
     ]
    },
    {
     "name": "stdout",
     "output_type": "stream",
     "text": [
      "\r",
      "Progress: |██████████████████████████████████----------------| 68.8% Complete\r",
      "Progress: |██████████████████████████████████----------------| 69.8% Complete"
     ]
    },
    {
     "name": "stderr",
     "output_type": "stream",
     "text": [
      "CalculationNotConverged at time step 66\n",
      "CalculationNotConverged at time step 67\n"
     ]
    },
    {
     "name": "stdout",
     "output_type": "stream",
     "text": [
      "\r",
      "Progress: |███████████████████████████████████---------------| 70.8% Complete\r",
      "Progress: |███████████████████████████████████---------------| 71.9% Complete"
     ]
    },
    {
     "name": "stderr",
     "output_type": "stream",
     "text": [
      "CalculationNotConverged at time step 68\n",
      "CalculationNotConverged at time step 69\n"
     ]
    },
    {
     "name": "stdout",
     "output_type": "stream",
     "text": [
      "\r",
      "Progress: |████████████████████████████████████--------------| 72.9% Complete\r",
      "Progress: |████████████████████████████████████--------------| 74.0% Complete"
     ]
    },
    {
     "name": "stderr",
     "output_type": "stream",
     "text": [
      "CalculationNotConverged at time step 70\n",
      "CalculationNotConverged at time step 71\n"
     ]
    },
    {
     "name": "stdout",
     "output_type": "stream",
     "text": [
      "\r",
      "Progress: |█████████████████████████████████████-------------| 75.0% Complete\r",
      "Progress: |██████████████████████████████████████------------| 76.0% Complete"
     ]
    },
    {
     "name": "stderr",
     "output_type": "stream",
     "text": [
      "CalculationNotConverged at time step 72\n",
      "CalculationNotConverged at time step 73\n"
     ]
    },
    {
     "name": "stdout",
     "output_type": "stream",
     "text": [
      "\r",
      "Progress: |██████████████████████████████████████------------| 77.1% Complete\r",
      "Progress: |███████████████████████████████████████-----------| 78.1% Complete"
     ]
    },
    {
     "name": "stderr",
     "output_type": "stream",
     "text": [
      "CalculationNotConverged at time step 74\n",
      "CalculationNotConverged at time step 75\n"
     ]
    },
    {
     "name": "stdout",
     "output_type": "stream",
     "text": [
      "\r",
      "Progress: |███████████████████████████████████████-----------| 79.2% Complete\r",
      "Progress: |████████████████████████████████████████----------| 80.2% Complete"
     ]
    },
    {
     "name": "stderr",
     "output_type": "stream",
     "text": [
      "CalculationNotConverged at time step 76\n",
      "CalculationNotConverged at time step 77\n"
     ]
    },
    {
     "name": "stdout",
     "output_type": "stream",
     "text": [
      "\r",
      "Progress: |████████████████████████████████████████----------| 81.2% Complete\r",
      "Progress: |█████████████████████████████████████████---------| 82.3% Complete"
     ]
    },
    {
     "name": "stderr",
     "output_type": "stream",
     "text": [
      "CalculationNotConverged at time step 78\n",
      "CalculationNotConverged at time step 79\n"
     ]
    },
    {
     "name": "stdout",
     "output_type": "stream",
     "text": [
      "\r",
      "Progress: |█████████████████████████████████████████---------| 83.3% Complete\r",
      "Progress: |██████████████████████████████████████████--------| 84.4% Complete"
     ]
    },
    {
     "name": "stderr",
     "output_type": "stream",
     "text": [
      "CalculationNotConverged at time step 80\n",
      "CalculationNotConverged at time step 81\n"
     ]
    },
    {
     "name": "stdout",
     "output_type": "stream",
     "text": [
      "\r",
      "Progress: |██████████████████████████████████████████--------| 85.4% Complete\r",
      "Progress: |███████████████████████████████████████████-------| 86.5% Complete"
     ]
    },
    {
     "name": "stderr",
     "output_type": "stream",
     "text": [
      "CalculationNotConverged at time step 82\n",
      "CalculationNotConverged at time step 83\n"
     ]
    },
    {
     "name": "stdout",
     "output_type": "stream",
     "text": [
      "\r",
      "Progress: |███████████████████████████████████████████-------| 87.5% Complete\r",
      "Progress: |████████████████████████████████████████████------| 88.5% Complete"
     ]
    },
    {
     "name": "stderr",
     "output_type": "stream",
     "text": [
      "CalculationNotConverged at time step 84\n",
      "CalculationNotConverged at time step 85\n"
     ]
    },
    {
     "name": "stdout",
     "output_type": "stream",
     "text": [
      "\r",
      "Progress: |████████████████████████████████████████████------| 89.6% Complete\r",
      "Progress: |█████████████████████████████████████████████-----| 90.6% Complete"
     ]
    },
    {
     "name": "stderr",
     "output_type": "stream",
     "text": [
      "CalculationNotConverged at time step 86\n",
      "CalculationNotConverged at time step 87\n"
     ]
    },
    {
     "name": "stdout",
     "output_type": "stream",
     "text": [
      "\r",
      "Progress: |█████████████████████████████████████████████-----| 91.7% Complete\r",
      "Progress: |██████████████████████████████████████████████----| 92.7% Complete"
     ]
    },
    {
     "name": "stderr",
     "output_type": "stream",
     "text": [
      "CalculationNotConverged at time step 88\n",
      "CalculationNotConverged at time step 89\n",
      "CalculationNotConverged at time step 90\n"
     ]
    },
    {
     "name": "stdout",
     "output_type": "stream",
     "text": [
      "\r",
      "Progress: |██████████████████████████████████████████████----| 93.8% Complete\r",
      "Progress: |███████████████████████████████████████████████---| 94.8% Complete"
     ]
    },
    {
     "name": "stderr",
     "output_type": "stream",
     "text": [
      "CalculationNotConverged at time step 91\n"
     ]
    },
    {
     "name": "stdout",
     "output_type": "stream",
     "text": [
      "\r",
      "Progress: |███████████████████████████████████████████████---| 95.8% Complete\r",
      "Progress: |████████████████████████████████████████████████--| 96.9% Complete"
     ]
    },
    {
     "name": "stderr",
     "output_type": "stream",
     "text": [
      "CalculationNotConverged at time step 92\n",
      "CalculationNotConverged at time step 93\n",
      "CalculationNotConverged at time step 94\n"
     ]
    },
    {
     "name": "stdout",
     "output_type": "stream",
     "text": [
      "\r",
      "Progress: |████████████████████████████████████████████████--| 97.9% Complete\r",
      "Progress: |█████████████████████████████████████████████████-| 99.0% Complete"
     ]
    },
    {
     "name": "stderr",
     "output_type": "stream",
     "text": [
      "CalculationNotConverged at time step 95\n"
     ]
    },
    {
     "name": "stdout",
     "output_type": "stream",
     "text": [
      "\r",
      "Progress: |██████████████████████████████████████████████████| 100.0% Complete\n",
      "\n"
     ]
    },
    {
     "name": "stderr",
     "output_type": "stream",
     "text": [
      "CalculationNotConverged at time step 0\n"
     ]
    },
    {
     "name": "stdout",
     "output_type": "stream",
     "text": [
      "\r",
      "Progress: |--------------------------------------------------| 0.0% Complete\r",
      "Progress: |--------------------------------------------------| 1.0% Complete\r",
      "Progress: |█-------------------------------------------------| 2.1% Complete\r",
      "Progress: |█-------------------------------------------------| 3.1% Complete"
     ]
    },
    {
     "name": "stderr",
     "output_type": "stream",
     "text": [
      "CalculationNotConverged at time step 3\n"
     ]
    },
    {
     "name": "stdout",
     "output_type": "stream",
     "text": [
      "Progress: |█████████████-------------------------------------| 26.0% Complete"
     ]
    },
    {
     "name": "stderr",
     "output_type": "stream",
     "text": [
      "CalculationNotConverged at time step 25\n"
     ]
    },
    {
     "name": "stdout",
     "output_type": "stream",
     "text": [
      "\r",
      "Progress: |█████████████-------------------------------------| 27.1% Complete"
     ]
    },
    {
     "name": "stderr",
     "output_type": "stream",
     "text": [
      "CalculationNotConverged at time step 26\n"
     ]
    },
    {
     "name": "stdout",
     "output_type": "stream",
     "text": [
      "\r",
      "Progress: |██████████████------------------------------------| 28.1% Complete\r",
      "Progress: |██████████████------------------------------------| 29.2% Complete"
     ]
    },
    {
     "name": "stderr",
     "output_type": "stream",
     "text": [
      "CalculationNotConverged at time step 27\n",
      "CalculationNotConverged at time step 28\n",
      "CalculationNotConverged at time step 29\n"
     ]
    },
    {
     "name": "stdout",
     "output_type": "stream",
     "text": [
      "\r",
      "Progress: |███████████████-----------------------------------| 30.2% Complete\r",
      "Progress: |███████████████-----------------------------------| 31.2% Complete"
     ]
    },
    {
     "name": "stderr",
     "output_type": "stream",
     "text": [
      "CalculationNotConverged at time step 30\n"
     ]
    },
    {
     "name": "stdout",
     "output_type": "stream",
     "text": [
      "\r",
      "Progress: |████████████████----------------------------------| 32.3% Complete\r",
      "Progress: |████████████████----------------------------------| 33.3% Complete"
     ]
    },
    {
     "name": "stderr",
     "output_type": "stream",
     "text": [
      "CalculationNotConverged at time step 31\n",
      "CalculationNotConverged at time step 32\n"
     ]
    },
    {
     "name": "stdout",
     "output_type": "stream",
     "text": [
      "\r",
      "Progress: |█████████████████---------------------------------| 34.4% Complete\r",
      "Progress: |█████████████████---------------------------------| 35.4% Complete"
     ]
    },
    {
     "name": "stderr",
     "output_type": "stream",
     "text": [
      "CalculationNotConverged at time step 33\n",
      "CalculationNotConverged at time step 34\n"
     ]
    },
    {
     "name": "stdout",
     "output_type": "stream",
     "text": [
      "\r",
      "Progress: |██████████████████--------------------------------| 36.5% Complete\r",
      "Progress: |██████████████████--------------------------------| 37.5% Complete"
     ]
    },
    {
     "name": "stderr",
     "output_type": "stream",
     "text": [
      "CalculationNotConverged at time step 35\n",
      "CalculationNotConverged at time step 36\n"
     ]
    },
    {
     "name": "stdout",
     "output_type": "stream",
     "text": [
      "\r",
      "Progress: |███████████████████-------------------------------| 38.5% Complete\r",
      "Progress: |███████████████████-------------------------------| 39.6% Complete"
     ]
    },
    {
     "name": "stderr",
     "output_type": "stream",
     "text": [
      "CalculationNotConverged at time step 37\n",
      "CalculationNotConverged at time step 38\n"
     ]
    },
    {
     "name": "stdout",
     "output_type": "stream",
     "text": [
      "\r",
      "Progress: |████████████████████------------------------------| 40.6% Complete\r",
      "Progress: |████████████████████------------------------------| 41.7% Complete"
     ]
    },
    {
     "name": "stderr",
     "output_type": "stream",
     "text": [
      "CalculationNotConverged at time step 39\n",
      "CalculationNotConverged at time step 40\n"
     ]
    },
    {
     "name": "stdout",
     "output_type": "stream",
     "text": [
      "\r",
      "Progress: |█████████████████████-----------------------------| 42.7% Complete\r",
      "Progress: |█████████████████████-----------------------------| 43.8% Complete"
     ]
    },
    {
     "name": "stderr",
     "output_type": "stream",
     "text": [
      "CalculationNotConverged at time step 41\n",
      "CalculationNotConverged at time step 42\n"
     ]
    },
    {
     "name": "stdout",
     "output_type": "stream",
     "text": [
      "\r",
      "Progress: |██████████████████████----------------------------| 44.8% Complete\r",
      "Progress: |██████████████████████----------------------------| 45.8% Complete"
     ]
    },
    {
     "name": "stderr",
     "output_type": "stream",
     "text": [
      "CalculationNotConverged at time step 43\n",
      "CalculationNotConverged at time step 44\n",
      "CalculationNotConverged at time step 45\n"
     ]
    },
    {
     "name": "stdout",
     "output_type": "stream",
     "text": [
      "\r",
      "Progress: |███████████████████████---------------------------| 46.9% Complete\r",
      "Progress: |███████████████████████---------------------------| 47.9% Complete"
     ]
    },
    {
     "name": "stderr",
     "output_type": "stream",
     "text": [
      "CalculationNotConverged at time step 46\n"
     ]
    },
    {
     "name": "stdout",
     "output_type": "stream",
     "text": [
      "\r",
      "Progress: |████████████████████████--------------------------| 49.0% Complete\r",
      "Progress: |█████████████████████████-------------------------| 50.0% Complete"
     ]
    },
    {
     "name": "stderr",
     "output_type": "stream",
     "text": [
      "CalculationNotConverged at time step 47\n",
      "CalculationNotConverged at time step 48\n"
     ]
    },
    {
     "name": "stdout",
     "output_type": "stream",
     "text": [
      "\r",
      "Progress: |█████████████████████████-------------------------| 51.0% Complete\r",
      "Progress: |██████████████████████████------------------------| 52.1% Complete"
     ]
    },
    {
     "name": "stderr",
     "output_type": "stream",
     "text": [
      "CalculationNotConverged at time step 49\n",
      "CalculationNotConverged at time step 50\n"
     ]
    },
    {
     "name": "stdout",
     "output_type": "stream",
     "text": [
      "\r",
      "Progress: |██████████████████████████------------------------| 53.1% Complete\r",
      "Progress: |███████████████████████████-----------------------| 54.2% Complete"
     ]
    },
    {
     "name": "stderr",
     "output_type": "stream",
     "text": [
      "CalculationNotConverged at time step 51\n",
      "CalculationNotConverged at time step 52\n"
     ]
    },
    {
     "name": "stdout",
     "output_type": "stream",
     "text": [
      "\r",
      "Progress: |███████████████████████████-----------------------| 55.2% Complete\r",
      "Progress: |████████████████████████████----------------------| 56.2% Complete"
     ]
    },
    {
     "name": "stderr",
     "output_type": "stream",
     "text": [
      "CalculationNotConverged at time step 53\n",
      "CalculationNotConverged at time step 54\n"
     ]
    },
    {
     "name": "stdout",
     "output_type": "stream",
     "text": [
      "\r",
      "Progress: |████████████████████████████----------------------| 57.3% Complete\r",
      "Progress: |█████████████████████████████---------------------| 58.3% Complete"
     ]
    },
    {
     "name": "stderr",
     "output_type": "stream",
     "text": [
      "CalculationNotConverged at time step 55\n",
      "CalculationNotConverged at time step 56\n"
     ]
    },
    {
     "name": "stdout",
     "output_type": "stream",
     "text": [
      "\r",
      "Progress: |█████████████████████████████---------------------| 59.4% Complete\r",
      "Progress: |██████████████████████████████--------------------| 60.4% Complete"
     ]
    },
    {
     "name": "stderr",
     "output_type": "stream",
     "text": [
      "CalculationNotConverged at time step 57\n",
      "CalculationNotConverged at time step 58\n"
     ]
    },
    {
     "name": "stdout",
     "output_type": "stream",
     "text": [
      "\r",
      "Progress: |██████████████████████████████--------------------| 61.5% Complete\r",
      "Progress: |███████████████████████████████-------------------| 62.5% Complete"
     ]
    },
    {
     "name": "stderr",
     "output_type": "stream",
     "text": [
      "CalculationNotConverged at time step 59\n",
      "CalculationNotConverged at time step 60\n"
     ]
    },
    {
     "name": "stdout",
     "output_type": "stream",
     "text": [
      "\r",
      "Progress: |███████████████████████████████-------------------| 63.5% Complete\r",
      "Progress: |████████████████████████████████------------------| 64.6% Complete"
     ]
    },
    {
     "name": "stderr",
     "output_type": "stream",
     "text": [
      "CalculationNotConverged at time step 61\n",
      "CalculationNotConverged at time step 62\n"
     ]
    },
    {
     "name": "stdout",
     "output_type": "stream",
     "text": [
      "\r",
      "Progress: |████████████████████████████████------------------| 65.6% Complete\r",
      "Progress: |█████████████████████████████████-----------------| 66.7% Complete\r",
      "Progress: |█████████████████████████████████-----------------| 67.7% Complete"
     ]
    },
    {
     "name": "stderr",
     "output_type": "stream",
     "text": [
      "CalculationNotConverged at time step 64\n",
      "CalculationNotConverged at time step 65\n"
     ]
    },
    {
     "name": "stdout",
     "output_type": "stream",
     "text": [
      "\r",
      "Progress: |██████████████████████████████████----------------| 68.8% Complete\r",
      "Progress: |██████████████████████████████████----------------| 69.8% Complete"
     ]
    },
    {
     "name": "stderr",
     "output_type": "stream",
     "text": [
      "CalculationNotConverged at time step 66\n",
      "CalculationNotConverged at time step 67\n"
     ]
    },
    {
     "name": "stdout",
     "output_type": "stream",
     "text": [
      "\r",
      "Progress: |███████████████████████████████████---------------| 70.8% Complete\r",
      "Progress: |███████████████████████████████████---------------| 71.9% Complete"
     ]
    },
    {
     "name": "stderr",
     "output_type": "stream",
     "text": [
      "CalculationNotConverged at time step 68\n",
      "CalculationNotConverged at time step 69\n"
     ]
    },
    {
     "name": "stdout",
     "output_type": "stream",
     "text": [
      "\r",
      "Progress: |████████████████████████████████████--------------| 72.9% Complete\r",
      "Progress: |████████████████████████████████████--------------| 74.0% Complete"
     ]
    },
    {
     "name": "stderr",
     "output_type": "stream",
     "text": [
      "CalculationNotConverged at time step 70\n",
      "CalculationNotConverged at time step 71\n"
     ]
    },
    {
     "name": "stdout",
     "output_type": "stream",
     "text": [
      "\r",
      "Progress: |█████████████████████████████████████-------------| 75.0% Complete\r",
      "Progress: |██████████████████████████████████████------------| 76.0% Complete"
     ]
    },
    {
     "name": "stderr",
     "output_type": "stream",
     "text": [
      "CalculationNotConverged at time step 72\n",
      "CalculationNotConverged at time step 73\n"
     ]
    },
    {
     "name": "stdout",
     "output_type": "stream",
     "text": [
      "\r",
      "Progress: |██████████████████████████████████████------------| 77.1% Complete\r",
      "Progress: |███████████████████████████████████████-----------| 78.1% Complete"
     ]
    },
    {
     "name": "stderr",
     "output_type": "stream",
     "text": [
      "CalculationNotConverged at time step 74\n",
      "CalculationNotConverged at time step 75\n"
     ]
    },
    {
     "name": "stdout",
     "output_type": "stream",
     "text": [
      "\r",
      "Progress: |███████████████████████████████████████-----------| 79.2% Complete\r",
      "Progress: |████████████████████████████████████████----------| 80.2% Complete"
     ]
    },
    {
     "name": "stderr",
     "output_type": "stream",
     "text": [
      "CalculationNotConverged at time step 76\n",
      "CalculationNotConverged at time step 77\n",
      "CalculationNotConverged at time step 78\n"
     ]
    },
    {
     "name": "stdout",
     "output_type": "stream",
     "text": [
      "\r",
      "Progress: |████████████████████████████████████████----------| 81.2% Complete\r",
      "Progress: |█████████████████████████████████████████---------| 82.3% Complete"
     ]
    },
    {
     "name": "stderr",
     "output_type": "stream",
     "text": [
      "CalculationNotConverged at time step 79\n"
     ]
    },
    {
     "name": "stdout",
     "output_type": "stream",
     "text": [
      "\r",
      "Progress: |█████████████████████████████████████████---------| 83.3% Complete\r",
      "Progress: |██████████████████████████████████████████--------| 84.4% Complete"
     ]
    },
    {
     "name": "stderr",
     "output_type": "stream",
     "text": [
      "CalculationNotConverged at time step 80\n",
      "CalculationNotConverged at time step 81\n"
     ]
    },
    {
     "name": "stdout",
     "output_type": "stream",
     "text": [
      "\r",
      "Progress: |██████████████████████████████████████████--------| 85.4% Complete\r",
      "Progress: |███████████████████████████████████████████-------| 86.5% Complete"
     ]
    },
    {
     "name": "stderr",
     "output_type": "stream",
     "text": [
      "CalculationNotConverged at time step 82\n",
      "CalculationNotConverged at time step 83\n"
     ]
    },
    {
     "name": "stdout",
     "output_type": "stream",
     "text": [
      "\r",
      "Progress: |███████████████████████████████████████████-------| 87.5% Complete\r",
      "Progress: |████████████████████████████████████████████------| 88.5% Complete"
     ]
    },
    {
     "name": "stderr",
     "output_type": "stream",
     "text": [
      "CalculationNotConverged at time step 84\n",
      "CalculationNotConverged at time step 85\n"
     ]
    },
    {
     "name": "stdout",
     "output_type": "stream",
     "text": [
      "\r",
      "Progress: |████████████████████████████████████████████------| 89.6% Complete\r",
      "Progress: |█████████████████████████████████████████████-----| 90.6% Complete"
     ]
    },
    {
     "name": "stderr",
     "output_type": "stream",
     "text": [
      "CalculationNotConverged at time step 86\n",
      "CalculationNotConverged at time step 87\n"
     ]
    },
    {
     "name": "stdout",
     "output_type": "stream",
     "text": [
      "Progress: |████████████████████████████████████████████████--| 96.9% Complete"
     ]
    },
    {
     "name": "stderr",
     "output_type": "stream",
     "text": [
      "CalculationNotConverged at time step 92\n",
      "CalculationNotConverged at time step 93\n"
     ]
    },
    {
     "name": "stdout",
     "output_type": "stream",
     "text": [
      "\r",
      "Progress: |████████████████████████████████████████████████--| 97.9% Complete\r",
      "Progress: |█████████████████████████████████████████████████-| 99.0% Complete"
     ]
    },
    {
     "name": "stderr",
     "output_type": "stream",
     "text": [
      "CalculationNotConverged at time step 94\n",
      "CalculationNotConverged at time step 95\n"
     ]
    },
    {
     "name": "stdout",
     "output_type": "stream",
     "text": [
      "\r",
      "Progress: |██████████████████████████████████████████████████| 100.0% Complete\n",
      "\n"
     ]
    },
    {
     "name": "stderr",
     "output_type": "stream",
     "text": [
      "CalculationNotConverged at time step 0\n"
     ]
    },
    {
     "name": "stdout",
     "output_type": "stream",
     "text": [
      "\r",
      "Progress: |--------------------------------------------------| 0.0% Complete\r",
      "Progress: |--------------------------------------------------| 1.0% Complete\r",
      "Progress: |█-------------------------------------------------| 2.1% Complete\r",
      "Progress: |█-------------------------------------------------| 3.1% Complete"
     ]
    },
    {
     "name": "stderr",
     "output_type": "stream",
     "text": [
      "CalculationNotConverged at time step 3\n"
     ]
    },
    {
     "name": "stdout",
     "output_type": "stream",
     "text": [
      "Progress: |█████████████-------------------------------------| 26.0% Complete"
     ]
    },
    {
     "name": "stderr",
     "output_type": "stream",
     "text": [
      "CalculationNotConverged at time step 25\n",
      "CalculationNotConverged at time step 26\n"
     ]
    },
    {
     "name": "stdout",
     "output_type": "stream",
     "text": [
      "\r",
      "Progress: |█████████████-------------------------------------| 27.1% Complete\r",
      "Progress: |██████████████------------------------------------| 28.1% Complete"
     ]
    },
    {
     "name": "stderr",
     "output_type": "stream",
     "text": [
      "CalculationNotConverged at time step 27\n"
     ]
    },
    {
     "name": "stdout",
     "output_type": "stream",
     "text": [
      "\r",
      "Progress: |██████████████------------------------------------| 29.2% Complete\r",
      "Progress: |███████████████-----------------------------------| 30.2% Complete"
     ]
    },
    {
     "name": "stderr",
     "output_type": "stream",
     "text": [
      "CalculationNotConverged at time step 28\n",
      "CalculationNotConverged at time step 29\n",
      "CalculationNotConverged at time step 30\n"
     ]
    },
    {
     "name": "stdout",
     "output_type": "stream",
     "text": [
      "\r",
      "Progress: |███████████████-----------------------------------| 31.2% Complete\r",
      "Progress: |████████████████----------------------------------| 32.3% Complete"
     ]
    },
    {
     "name": "stderr",
     "output_type": "stream",
     "text": [
      "CalculationNotConverged at time step 31\n",
      "CalculationNotConverged at time step 32\n"
     ]
    },
    {
     "name": "stdout",
     "output_type": "stream",
     "text": [
      "\r",
      "Progress: |████████████████----------------------------------| 33.3% Complete\r",
      "Progress: |█████████████████---------------------------------| 34.4% Complete"
     ]
    },
    {
     "name": "stderr",
     "output_type": "stream",
     "text": [
      "CalculationNotConverged at time step 33\n"
     ]
    },
    {
     "name": "stdout",
     "output_type": "stream",
     "text": [
      "\r",
      "Progress: |█████████████████---------------------------------| 35.4% Complete\r",
      "Progress: |██████████████████--------------------------------| 36.5% Complete"
     ]
    },
    {
     "name": "stderr",
     "output_type": "stream",
     "text": [
      "CalculationNotConverged at time step 34\n",
      "CalculationNotConverged at time step 35\n",
      "CalculationNotConverged at time step 36\n"
     ]
    },
    {
     "name": "stdout",
     "output_type": "stream",
     "text": [
      "\r",
      "Progress: |██████████████████--------------------------------| 37.5% Complete\r",
      "Progress: |███████████████████-------------------------------| 38.5% Complete"
     ]
    },
    {
     "name": "stderr",
     "output_type": "stream",
     "text": [
      "CalculationNotConverged at time step 37\n"
     ]
    },
    {
     "name": "stdout",
     "output_type": "stream",
     "text": [
      "\r",
      "Progress: |███████████████████-------------------------------| 39.6% Complete\r",
      "Progress: |████████████████████------------------------------| 40.6% Complete"
     ]
    },
    {
     "name": "stderr",
     "output_type": "stream",
     "text": [
      "CalculationNotConverged at time step 38\n",
      "CalculationNotConverged at time step 39\n"
     ]
    },
    {
     "name": "stdout",
     "output_type": "stream",
     "text": [
      "\r",
      "Progress: |████████████████████------------------------------| 41.7% Complete\r",
      "Progress: |█████████████████████-----------------------------| 42.7% Complete"
     ]
    },
    {
     "name": "stderr",
     "output_type": "stream",
     "text": [
      "CalculationNotConverged at time step 40\n",
      "CalculationNotConverged at time step 41\n"
     ]
    },
    {
     "name": "stdout",
     "output_type": "stream",
     "text": [
      "\r",
      "Progress: |█████████████████████-----------------------------| 43.8% Complete\r",
      "Progress: |██████████████████████----------------------------| 44.8% Complete"
     ]
    },
    {
     "name": "stderr",
     "output_type": "stream",
     "text": [
      "CalculationNotConverged at time step 42\n",
      "CalculationNotConverged at time step 43\n",
      "CalculationNotConverged at time step 44\n"
     ]
    },
    {
     "name": "stdout",
     "output_type": "stream",
     "text": [
      "\r",
      "Progress: |██████████████████████----------------------------| 45.8% Complete\r",
      "Progress: |███████████████████████---------------------------| 46.9% Complete"
     ]
    },
    {
     "name": "stderr",
     "output_type": "stream",
     "text": [
      "CalculationNotConverged at time step 45\n"
     ]
    },
    {
     "name": "stdout",
     "output_type": "stream",
     "text": [
      "\r",
      "Progress: |███████████████████████---------------------------| 47.9% Complete\r",
      "Progress: |████████████████████████--------------------------| 49.0% Complete"
     ]
    },
    {
     "name": "stderr",
     "output_type": "stream",
     "text": [
      "CalculationNotConverged at time step 46\n",
      "CalculationNotConverged at time step 47\n"
     ]
    },
    {
     "name": "stdout",
     "output_type": "stream",
     "text": [
      "\r",
      "Progress: |█████████████████████████-------------------------| 50.0% Complete\r",
      "Progress: |█████████████████████████-------------------------| 51.0% Complete"
     ]
    },
    {
     "name": "stderr",
     "output_type": "stream",
     "text": [
      "CalculationNotConverged at time step 48\n",
      "CalculationNotConverged at time step 49\n"
     ]
    },
    {
     "name": "stdout",
     "output_type": "stream",
     "text": [
      "\r",
      "Progress: |██████████████████████████------------------------| 52.1% Complete\r",
      "Progress: |██████████████████████████------------------------| 53.1% Complete"
     ]
    },
    {
     "name": "stderr",
     "output_type": "stream",
     "text": [
      "CalculationNotConverged at time step 50\n",
      "CalculationNotConverged at time step 51\n"
     ]
    },
    {
     "name": "stdout",
     "output_type": "stream",
     "text": [
      "\r",
      "Progress: |███████████████████████████-----------------------| 54.2% Complete\r",
      "Progress: |███████████████████████████-----------------------| 55.2% Complete"
     ]
    },
    {
     "name": "stderr",
     "output_type": "stream",
     "text": [
      "CalculationNotConverged at time step 52\n",
      "CalculationNotConverged at time step 53\n"
     ]
    },
    {
     "name": "stdout",
     "output_type": "stream",
     "text": [
      "\r",
      "Progress: |████████████████████████████----------------------| 56.2% Complete\r",
      "Progress: |████████████████████████████----------------------| 57.3% Complete"
     ]
    },
    {
     "name": "stderr",
     "output_type": "stream",
     "text": [
      "CalculationNotConverged at time step 54\n",
      "CalculationNotConverged at time step 55\n"
     ]
    },
    {
     "name": "stdout",
     "output_type": "stream",
     "text": [
      "\r",
      "Progress: |█████████████████████████████---------------------| 58.3% Complete\r",
      "Progress: |█████████████████████████████---------------------| 59.4% Complete"
     ]
    },
    {
     "name": "stderr",
     "output_type": "stream",
     "text": [
      "CalculationNotConverged at time step 56\n",
      "CalculationNotConverged at time step 57\n"
     ]
    },
    {
     "name": "stdout",
     "output_type": "stream",
     "text": [
      "\r",
      "Progress: |██████████████████████████████--------------------| 60.4% Complete\r",
      "Progress: |██████████████████████████████--------------------| 61.5% Complete"
     ]
    },
    {
     "name": "stderr",
     "output_type": "stream",
     "text": [
      "CalculationNotConverged at time step 58\n",
      "CalculationNotConverged at time step 59\n"
     ]
    },
    {
     "name": "stdout",
     "output_type": "stream",
     "text": [
      "\r",
      "Progress: |███████████████████████████████-------------------| 62.5% Complete\r",
      "Progress: |███████████████████████████████-------------------| 63.5% Complete"
     ]
    },
    {
     "name": "stderr",
     "output_type": "stream",
     "text": [
      "CalculationNotConverged at time step 60\n",
      "CalculationNotConverged at time step 61\n"
     ]
    },
    {
     "name": "stdout",
     "output_type": "stream",
     "text": [
      "\r",
      "Progress: |████████████████████████████████------------------| 64.6% Complete\r",
      "Progress: |████████████████████████████████------------------| 65.6% Complete"
     ]
    },
    {
     "name": "stderr",
     "output_type": "stream",
     "text": [
      "CalculationNotConverged at time step 62\n",
      "CalculationNotConverged at time step 64\n"
     ]
    },
    {
     "name": "stdout",
     "output_type": "stream",
     "text": [
      "\r",
      "Progress: |█████████████████████████████████-----------------| 66.7% Complete\r",
      "Progress: |█████████████████████████████████-----------------| 67.7% Complete\r",
      "Progress: |██████████████████████████████████----------------| 68.8% Complete"
     ]
    },
    {
     "name": "stderr",
     "output_type": "stream",
     "text": [
      "CalculationNotConverged at time step 65\n",
      "CalculationNotConverged at time step 66\n"
     ]
    },
    {
     "name": "stdout",
     "output_type": "stream",
     "text": [
      "\r",
      "Progress: |██████████████████████████████████----------------| 69.8% Complete\r",
      "Progress: |███████████████████████████████████---------------| 70.8% Complete"
     ]
    },
    {
     "name": "stderr",
     "output_type": "stream",
     "text": [
      "CalculationNotConverged at time step 67\n",
      "CalculationNotConverged at time step 68\n"
     ]
    },
    {
     "name": "stdout",
     "output_type": "stream",
     "text": [
      "\r",
      "Progress: |███████████████████████████████████---------------| 71.9% Complete\r",
      "Progress: |████████████████████████████████████--------------| 72.9% Complete"
     ]
    },
    {
     "name": "stderr",
     "output_type": "stream",
     "text": [
      "CalculationNotConverged at time step 69\n",
      "CalculationNotConverged at time step 70\n"
     ]
    },
    {
     "name": "stdout",
     "output_type": "stream",
     "text": [
      "\r",
      "Progress: |████████████████████████████████████--------------| 74.0% Complete\r",
      "Progress: |█████████████████████████████████████-------------| 75.0% Complete"
     ]
    },
    {
     "name": "stderr",
     "output_type": "stream",
     "text": [
      "CalculationNotConverged at time step 71\n",
      "CalculationNotConverged at time step 72\n"
     ]
    },
    {
     "name": "stdout",
     "output_type": "stream",
     "text": [
      "\r",
      "Progress: |██████████████████████████████████████------------| 76.0% Complete\r",
      "Progress: |██████████████████████████████████████------------| 77.1% Complete"
     ]
    },
    {
     "name": "stderr",
     "output_type": "stream",
     "text": [
      "CalculationNotConverged at time step 73\n",
      "CalculationNotConverged at time step 74\n",
      "CalculationNotConverged at time step 75\n"
     ]
    },
    {
     "name": "stdout",
     "output_type": "stream",
     "text": [
      "\r",
      "Progress: |███████████████████████████████████████-----------| 78.1% Complete\r",
      "Progress: |███████████████████████████████████████-----------| 79.2% Complete"
     ]
    },
    {
     "name": "stderr",
     "output_type": "stream",
     "text": [
      "CalculationNotConverged at time step 76\n",
      "CalculationNotConverged at time step 77\n"
     ]
    },
    {
     "name": "stdout",
     "output_type": "stream",
     "text": [
      "\r",
      "Progress: |████████████████████████████████████████----------| 80.2% Complete\r",
      "Progress: |████████████████████████████████████████----------| 81.2% Complete"
     ]
    },
    {
     "name": "stderr",
     "output_type": "stream",
     "text": [
      "CalculationNotConverged at time step 78\n"
     ]
    },
    {
     "name": "stdout",
     "output_type": "stream",
     "text": [
      "\r",
      "Progress: |█████████████████████████████████████████---------| 82.3% Complete\r",
      "Progress: |█████████████████████████████████████████---------| 83.3% Complete"
     ]
    },
    {
     "name": "stderr",
     "output_type": "stream",
     "text": [
      "CalculationNotConverged at time step 79\n",
      "CalculationNotConverged at time step 80\n"
     ]
    },
    {
     "name": "stdout",
     "output_type": "stream",
     "text": [
      "\r",
      "Progress: |██████████████████████████████████████████--------| 84.4% Complete\r",
      "Progress: |██████████████████████████████████████████--------| 85.4% Complete"
     ]
    },
    {
     "name": "stderr",
     "output_type": "stream",
     "text": [
      "CalculationNotConverged at time step 81\n",
      "CalculationNotConverged at time step 82\n"
     ]
    },
    {
     "name": "stdout",
     "output_type": "stream",
     "text": [
      "\r",
      "Progress: |███████████████████████████████████████████-------| 86.5% Complete\r",
      "Progress: |███████████████████████████████████████████-------| 87.5% Complete"
     ]
    },
    {
     "name": "stderr",
     "output_type": "stream",
     "text": [
      "CalculationNotConverged at time step 83\n",
      "CalculationNotConverged at time step 84\n"
     ]
    },
    {
     "name": "stdout",
     "output_type": "stream",
     "text": [
      "\r",
      "Progress: |████████████████████████████████████████████------| 88.5% Complete\r",
      "Progress: |████████████████████████████████████████████------| 89.6% Complete"
     ]
    },
    {
     "name": "stderr",
     "output_type": "stream",
     "text": [
      "CalculationNotConverged at time step 85\n",
      "CalculationNotConverged at time step 86\n"
     ]
    },
    {
     "name": "stdout",
     "output_type": "stream",
     "text": [
      "\r",
      "Progress: |█████████████████████████████████████████████-----| 90.6% Complete\r",
      "Progress: |█████████████████████████████████████████████-----| 91.7% Complete"
     ]
    },
    {
     "name": "stderr",
     "output_type": "stream",
     "text": [
      "CalculationNotConverged at time step 87\n"
     ]
    },
    {
     "name": "stdout",
     "output_type": "stream",
     "text": [
      "\r",
      "Progress: |██████████████████████████████████████████████----| 92.7% Complete\r",
      "Progress: |██████████████████████████████████████████████----| 93.8% Complete\r",
      "Progress: |███████████████████████████████████████████████---| 94.8% Complete"
     ]
    },
    {
     "name": "stderr",
     "output_type": "stream",
     "text": [
      "CalculationNotConverged at time step 92\n"
     ]
    },
    {
     "name": "stdout",
     "output_type": "stream",
     "text": [
      "\r",
      "Progress: |███████████████████████████████████████████████---| 95.8% Complete\r",
      "Progress: |████████████████████████████████████████████████--| 96.9% Complete\r",
      "Progress: |████████████████████████████████████████████████--| 97.9% Complete"
     ]
    },
    {
     "name": "stderr",
     "output_type": "stream",
     "text": [
      "CalculationNotConverged at time step 93\n",
      "CalculationNotConverged at time step 94\n"
     ]
    },
    {
     "name": "stdout",
     "output_type": "stream",
     "text": [
      "\r",
      "Progress: |█████████████████████████████████████████████████-| 99.0% Complete\r",
      "Progress: |██████████████████████████████████████████████████| 100.0% Complete\n",
      "\n"
     ]
    },
    {
     "name": "stderr",
     "output_type": "stream",
     "text": [
      "CalculationNotConverged at time step 95\n"
     ]
    },
    {
     "name": "stdout",
     "output_type": "stream",
     "text": [
      "Progress: |█████████████████---------------------------------| 34.4% Complete"
     ]
    },
    {
     "name": "stderr",
     "output_type": "stream",
     "text": [
      "CalculationNotConverged at time step 33\n"
     ]
    },
    {
     "name": "stdout",
     "output_type": "stream",
     "text": [
      "\r",
      "Progress: |█████████████████---------------------------------| 35.4% Complete\r",
      "Progress: |██████████████████--------------------------------| 36.5% Complete"
     ]
    },
    {
     "name": "stderr",
     "output_type": "stream",
     "text": [
      "CalculationNotConverged at time step 34\n",
      "CalculationNotConverged at time step 35\n"
     ]
    },
    {
     "name": "stdout",
     "output_type": "stream",
     "text": [
      "\r",
      "Progress: |██████████████████--------------------------------| 37.5% Complete\r",
      "Progress: |███████████████████-------------------------------| 38.5% Complete"
     ]
    },
    {
     "name": "stderr",
     "output_type": "stream",
     "text": [
      "CalculationNotConverged at time step 36\n",
      "CalculationNotConverged at time step 37\n"
     ]
    },
    {
     "name": "stdout",
     "output_type": "stream",
     "text": [
      "\r",
      "Progress: |███████████████████-------------------------------| 39.6% Complete\r",
      "Progress: |████████████████████------------------------------| 40.6% Complete"
     ]
    },
    {
     "name": "stderr",
     "output_type": "stream",
     "text": [
      "CalculationNotConverged at time step 38\n",
      "CalculationNotConverged at time step 39\n"
     ]
    },
    {
     "name": "stdout",
     "output_type": "stream",
     "text": [
      "\r",
      "Progress: |████████████████████------------------------------| 41.7% Complete\r",
      "Progress: |█████████████████████-----------------------------| 42.7% Complete"
     ]
    },
    {
     "name": "stderr",
     "output_type": "stream",
     "text": [
      "CalculationNotConverged at time step 40\n",
      "CalculationNotConverged at time step 41\n"
     ]
    },
    {
     "name": "stdout",
     "output_type": "stream",
     "text": [
      "Progress: |█████████████████████████████████████-------------| 75.0% Complete"
     ]
    },
    {
     "name": "stderr",
     "output_type": "stream",
     "text": [
      "CalculationNotConverged at time step 72\n"
     ]
    },
    {
     "name": "stdout",
     "output_type": "stream",
     "text": [
      "\r",
      "Progress: |██████████████████████████████████████------------| 76.0% Complete\r",
      "Progress: |██████████████████████████████████████------------| 77.1% Complete"
     ]
    },
    {
     "name": "stderr",
     "output_type": "stream",
     "text": [
      "CalculationNotConverged at time step 73\n",
      "CalculationNotConverged at time step 74\n"
     ]
    },
    {
     "name": "stdout",
     "output_type": "stream",
     "text": [
      "Progress: |███████████████████████████████████████████-------| 87.5% Complete"
     ]
    },
    {
     "name": "stderr",
     "output_type": "stream",
     "text": [
      "CalculationNotConverged at time step 84\n"
     ]
    },
    {
     "name": "stdout",
     "output_type": "stream",
     "text": [
      "\r",
      "Progress: |████████████████████████████████████████████------| 88.5% Complete\r",
      "Progress: |████████████████████████████████████████████------| 89.6% Complete"
     ]
    },
    {
     "name": "stderr",
     "output_type": "stream",
     "text": [
      "CalculationNotConverged at time step 85\n"
     ]
    },
    {
     "name": "stdout",
     "output_type": "stream",
     "text": [
      "Progress: |██████████████████████████████████████████████████| 100.0% Complete\n",
      "\n",
      "Progress: |█████████████████---------------------------------| 34.4% Complete"
     ]
    },
    {
     "name": "stderr",
     "output_type": "stream",
     "text": [
      "CalculationNotConverged at time step 33\n"
     ]
    },
    {
     "name": "stdout",
     "output_type": "stream",
     "text": [
      "\r",
      "Progress: |█████████████████---------------------------------| 35.4% Complete\r",
      "Progress: |██████████████████--------------------------------| 36.5% Complete"
     ]
    },
    {
     "name": "stderr",
     "output_type": "stream",
     "text": [
      "CalculationNotConverged at time step 34\n",
      "CalculationNotConverged at time step 35\n"
     ]
    },
    {
     "name": "stdout",
     "output_type": "stream",
     "text": [
      "\r",
      "Progress: |██████████████████--------------------------------| 37.5% Complete\r",
      "Progress: |███████████████████-------------------------------| 38.5% Complete"
     ]
    },
    {
     "name": "stderr",
     "output_type": "stream",
     "text": [
      "CalculationNotConverged at time step 36\n",
      "CalculationNotConverged at time step 37\n",
      "CalculationNotConverged at time step 38\n"
     ]
    },
    {
     "name": "stdout",
     "output_type": "stream",
     "text": [
      "\r",
      "Progress: |███████████████████-------------------------------| 39.6% Complete\r",
      "Progress: |████████████████████------------------------------| 40.6% Complete"
     ]
    },
    {
     "name": "stderr",
     "output_type": "stream",
     "text": [
      "CalculationNotConverged at time step 39\n",
      "CalculationNotConverged at time step 40\n"
     ]
    },
    {
     "name": "stdout",
     "output_type": "stream",
     "text": [
      "\r",
      "Progress: |████████████████████------------------------------| 41.7% Complete\r",
      "Progress: |█████████████████████-----------------------------| 42.7% Complete"
     ]
    },
    {
     "name": "stderr",
     "output_type": "stream",
     "text": [
      "CalculationNotConverged at time step 41\n"
     ]
    },
    {
     "name": "stdout",
     "output_type": "stream",
     "text": [
      "Progress: |████████████████████████████████████--------------| 74.0% Complete"
     ]
    },
    {
     "name": "stderr",
     "output_type": "stream",
     "text": [
      "CalculationNotConverged at time step 72\n"
     ]
    },
    {
     "name": "stdout",
     "output_type": "stream",
     "text": [
      "\r",
      "Progress: |█████████████████████████████████████-------------| 75.0% Complete\r",
      "Progress: |██████████████████████████████████████------------| 76.0% Complete\r",
      "Progress: |██████████████████████████████████████------------| 77.1% Complete"
     ]
    },
    {
     "name": "stderr",
     "output_type": "stream",
     "text": [
      "CalculationNotConverged at time step 73\n",
      "CalculationNotConverged at time step 74\n"
     ]
    },
    {
     "name": "stdout",
     "output_type": "stream",
     "text": [
      "Progress: |███████████████████████████████████████████-------| 87.5% Complete"
     ]
    },
    {
     "name": "stderr",
     "output_type": "stream",
     "text": [
      "CalculationNotConverged at time step 84\n"
     ]
    },
    {
     "name": "stdout",
     "output_type": "stream",
     "text": [
      "\r",
      "Progress: |████████████████████████████████████████████------| 88.5% Complete\r",
      "Progress: |████████████████████████████████████████████------| 89.6% Complete"
     ]
    },
    {
     "name": "stderr",
     "output_type": "stream",
     "text": [
      "CalculationNotConverged at time step 85\n"
     ]
    },
    {
     "name": "stdout",
     "output_type": "stream",
     "text": [
      "Progress: |██████████████████████████████████████████████████| 100.0% Complete\n",
      "\n",
      "Progress: |██████████████████████████████████████████████████| 100.0% Complete\n",
      "\n",
      "Progress: |██████████████████████████████████████████████████| 100.0% Complete\n",
      "\n",
      "Progress: |██████████████████████████████████████████████████| 100.0% Complete\n",
      "\n",
      "Progress: |██████████████████████████████████████████████████| 100.0% Complete\n",
      "\n",
      "Progress: |██████████████████████████████████████████████████| 100.0% Complete\n",
      "\n",
      "Progress: |██████████████████████████████████████████████████| 100.0% Complete\n",
      "\n",
      "Progress: |██████████████████████████████████████████████████| 100.0% Complete\n",
      "\n",
      "Progress: |██████████████████████████████████████████████████| 100.0% Complete\n",
      "\n",
      "Progress: |██████████████████████████████████████████████████| 100.0% Complete\n",
      "\n",
      "Progress: |██████████████████████████████████████████████████| 100.0% Complete\n",
      "\n",
      "Progress: |██████████████████████████████████████████████████| 100.0% Complete\n",
      "\n"
     ]
    },
    {
     "data": {
      "text/plain": [
       "2.109375"
      ]
     },
     "execution_count": 48,
     "metadata": {},
     "output_type": "execute_result"
    }
   ],
   "source": [
    "max_cap(net,ow=ow,conn_at_bus=95, loadorgen='load',ul_p=ul_p, ll_p=ll_p, prof='L0-A')"
   ]
  },
  {
   "cell_type": "code",
   "execution_count": 26,
   "metadata": {
    "ExecuteTime": {
     "end_time": "2021-03-07T16:26:23.310193Z",
     "start_time": "2021-03-07T16:26:21.300547Z"
    }
   },
   "outputs": [
    {
     "name": "stdout",
     "output_type": "stream",
     "text": [
      "Progress: |██████████████████████████████████████████████████| 100.0% Complete\n",
      "\n"
     ]
    },
    {
     "data": {
      "text/plain": [
       "(              name  vn_kv  min_vm_pu  max_vm_pu  pf_max_vm_pu  pf_min_vm_pu\n",
       " 88  MV1.101 Bus 88   20.0      0.965    1.10775      1.015018      0.944271\n",
       " 89  MV1.101 Bus 89   20.0      0.965    1.10775      1.005356      0.885170\n",
       " 90  MV1.101 Bus 90   20.0      0.965    1.10775      1.000180      0.853495\n",
       " 91  MV1.101 Bus 91   20.0      0.965    1.10775      0.987642      0.774219\n",
       " 92  MV1.101 Bus 92   20.0      0.965    1.10775      0.985462      0.760442\n",
       " 93  MV1.101 Bus 93   20.0      0.965    1.10775      0.984385      0.753593\n",
       " 94  MV1.101 Bus 94   20.0      0.965    1.10775      0.983611      0.748628\n",
       " 95  MV1.101 Bus 95   20.0      0.965    1.10775      0.982964      0.744433\n",
       " 96  MV1.101 Bus 96   20.0      0.965    1.10775      0.982952      0.744408,\n",
       "                name  from_bus  to_bus  max_loading_percent  \\\n",
       " 74  MV1.101 Line 75         3      78                100.0   \n",
       " 75  MV1.101 Line 76        78      79                100.0   \n",
       " 76  MV1.101 Line 77        79      80                100.0   \n",
       " 77  MV1.101 Line 78        80      81                100.0   \n",
       " 78  MV1.101 Line 79        81      82                100.0   \n",
       " 79  MV1.101 Line 80        82      83                100.0   \n",
       " 80  MV1.101 Line 81        83      84                100.0   \n",
       " 81  MV1.101 Line 82        84      85                100.0   \n",
       " 82  MV1.101 Line 83        85      86                100.0   \n",
       " 83  MV1.101 Line 84        86      87                100.0   \n",
       " 84  MV1.101 Line 85        87      88                100.0   \n",
       " 85  MV1.101 Line 86        88      89                100.0   \n",
       " 86  MV1.101 Line 87        89      90                100.0   \n",
       " 87  MV1.101 Line 88        90      91                100.0   \n",
       " 88  MV1.101 Line 89        91      92                100.0   \n",
       " 89  MV1.101 Line 90        92      93                100.0   \n",
       " 90  MV1.101 Line 91        93      94                100.0   \n",
       " 91  MV1.101 Line 92        94      95                100.0   \n",
       " \n",
       "     pf_max_loading_percent  \n",
       " 74              155.611478  \n",
       " 75              155.309400  \n",
       " 76              155.007393  \n",
       " 77              153.754631  \n",
       " 78              153.452711  \n",
       " 79              152.193934  \n",
       " 80              150.932395  \n",
       " 81              150.632339  \n",
       " 82              150.328583  \n",
       " 83              150.029023  \n",
       " 84              193.470444  \n",
       " 85              192.759992  \n",
       " 86              192.004226  \n",
       " 87              191.224756  \n",
       " 88              147.114878  \n",
       " 89              146.449734  \n",
       " 90              146.040617  \n",
       " 91              141.497624  ,\n",
       " Empty DataFrame\n",
       " Columns: [name, sn_mva, max_loading_percent, pf_max_loading_percent]\n",
       " Index: [])"
      ]
     },
     "execution_count": 26,
     "metadata": {},
     "output_type": "execute_result"
    }
   ],
   "source": [
    "sing_res(net,ow=ow,conn_at_bus=95, loadorgen='load',size_p=10,size_q=0.1, prof='L0-A')"
   ]
  },
  {
   "cell_type": "code",
   "execution_count": 52,
   "metadata": {
    "ExecuteTime": {
     "end_time": "2021-03-01T10:43:07.194064Z",
     "start_time": "2021-03-01T10:43:07.158173Z"
    }
   },
   "outputs": [
    {
     "data": {
      "text/plain": [
       "{'load':        G0-A_qload  G0-A_pload  G0-M_qload  G0-M_pload  G3-A_qload  G3-A_pload  \\\n",
       " 0        0.282542    0.143882    0.256264    0.275641    0.241342    0.351171   \n",
       " 1        0.389736    0.203032    0.473602    0.283333    0.160782    0.349565   \n",
       " 2        0.402408    0.213184    0.376287    0.248718    0.232880    0.401338   \n",
       " 3        0.329803    0.170953    0.434676    0.269231    0.135395    0.387960   \n",
       " 4        0.385284    0.191256    0.437920    0.271795    0.177707    0.387960   \n",
       " ...           ...         ...         ...         ...         ...         ...   \n",
       " 35131    0.321241    0.157417    0.188143    0.250000    0.224418    0.359599   \n",
       " 35132    0.286994    0.150650    0.210850    0.264103    0.309040    0.409766   \n",
       " 35133    0.329803    0.169193    0.262752    0.276923    0.266729    0.366288   \n",
       " 35134    0.235623    0.125203    0.181656    0.248718    0.258267    0.311037   \n",
       " 35135    0.278432    0.142122    0.236801    0.270513    0.330026    0.409766   \n",
       " \n",
       "        G3-M_qload  G3-M_pload  L0-A_qload  L0-A_pload  L2-M_qload  L2-M_pload  \\\n",
       " 0        0.251059    0.508527    0.269972    0.225806    0.359739    0.245895   \n",
       " 1        0.309901    0.426357    0.269972    0.196030    0.452681    0.340968   \n",
       " 2        0.309901    0.441860    0.282529    0.215881    0.461428    0.352636   \n",
       " 3        0.305978    0.437209    0.301364    0.225806    0.472363    0.350475   \n",
       " 4        0.294210    0.444961    0.276250    0.188586    0.459242    0.348747   \n",
       " ...           ...         ...         ...         ...         ...         ...   \n",
       " 35131    0.203985    0.496124    0.389262    0.250620    0.363020    0.244166   \n",
       " 35132    0.219676    0.491473    0.364148    0.238213    0.384888    0.257563   \n",
       " 35133    0.211831    0.482171    0.307642    0.233251    0.389262    0.261020   \n",
       " 35134    0.262827    0.503876    0.251137    0.213400    0.382701    0.270527   \n",
       " 35135    0.223599    0.485271    0.251137    0.215881    0.392542    0.253241   \n",
       " \n",
       "        lv_rural1_qload  lv_rural1_pload  lv_rural2_qload  lv_rural2_pload  \\\n",
       " 0             0.222110         0.239930         0.051619         0.149935   \n",
       " 1             0.416010         0.337164         0.107396         0.109202   \n",
       " 2             0.448108         0.390981         0.097292         0.130858   \n",
       " 3             0.448728         0.390292         0.040505         0.110788   \n",
       " 4             0.432050         0.398964         0.053850         0.119143   \n",
       " ...                ...              ...              ...              ...   \n",
       " 35131         0.262766         0.317934         0.052666         0.098147   \n",
       " 35132         0.236274         0.299391         0.056477         0.096619   \n",
       " 35133         0.184794         0.224000         0.056765         0.093389   \n",
       " 35134         0.236497         0.262651         0.048019         0.091647   \n",
       " 35135         0.230667         0.266308         0.030500         0.097565   \n",
       " \n",
       "        lv_rural3_qload  lv_rural3_pload  lv_semiurb4_qload  lv_semiurb4_pload  \n",
       " 0             0.029206         0.118425           0.047120           0.169062  \n",
       " 1             0.076577         0.074747           0.159834           0.138496  \n",
       " 2             0.066889         0.096450           0.147112           0.149814  \n",
       " 3             0.018855         0.078039           0.083947           0.135222  \n",
       " 4             0.028271         0.085203           0.090843           0.146128  \n",
       " ...                ...              ...                ...                ...  \n",
       " 35131         0.133809         0.167980           0.073592           0.154332  \n",
       " 35132         0.156310         0.181148           0.072812           0.152383  \n",
       " 35133         0.093333         0.119256           0.078821           0.145792  \n",
       " 35134         0.024277         0.059800           0.069889           0.152643  \n",
       " 35135         0.006082         0.062089           0.055148           0.154119  \n",
       " \n",
       " [35136 rows x 20 columns],\n",
       " 'powerplants':                    time\n",
       " 0      01.01.2016 00:00\n",
       " 1      01.01.2016 00:15\n",
       " 2      01.01.2016 00:30\n",
       " 3      01.01.2016 00:45\n",
       " 4      01.01.2016 01:00\n",
       " ...                 ...\n",
       " 35131  31.12.2016 22:45\n",
       " 35132  31.12.2016 23:00\n",
       " 35133  31.12.2016 23:15\n",
       " 35134  31.12.2016 23:30\n",
       " 35135  31.12.2016 23:45\n",
       " \n",
       " [35136 rows x 1 columns],\n",
       " 'renewables':                    time  PV3  PV7       WP4       WP7       BM1       BM2  \\\n",
       " 0      01.01.2016 00:00  0.0  0.0  0.980906  0.991261  0.702308  0.661961   \n",
       " 1      01.01.2016 00:15  0.0  0.0  0.983083  0.991023  0.702483  0.662174   \n",
       " 2      01.01.2016 00:30  0.0  0.0  0.985261  0.990784  0.702659  0.662388   \n",
       " 3      01.01.2016 00:45  0.0  0.0  0.987438  0.990546  0.702834  0.662601   \n",
       " 4      01.01.2016 01:00  0.0  0.0  0.989616  0.990307  0.703009  0.662815   \n",
       " ...                 ...  ...  ...       ...       ...       ...       ...   \n",
       " 35131  31.12.2016 22:45  0.0  0.0  0.211776  0.227593  0.606395  0.491000   \n",
       " 35132  31.12.2016 23:00  0.0  0.0  0.000000  0.000000  0.607024  0.488286   \n",
       " 35133  31.12.2016 23:15  0.0  0.0  0.000000  0.000000  0.608084  0.486645   \n",
       " 35134  31.12.2016 23:30  0.0  0.0  0.000000  0.000000  0.609145  0.485004   \n",
       " 35135  31.12.2016 23:45  0.0  0.0  0.000000  0.000000  0.610205  0.483363   \n",
       " \n",
       "             BM3    Hydro2  lv_rural1  lv_rural2  lv_rural3  lv_semiurb4  \n",
       " 0      0.612549  0.284667        0.0        0.0        0.0          0.0  \n",
       " 1      0.609645  0.375918        0.0        0.0        0.0          0.0  \n",
       " 2      0.606742  0.381791        0.0        0.0        0.0          0.0  \n",
       " 3      0.603838  0.375184        0.0        0.0        0.0          0.0  \n",
       " 4      0.600935  0.378120        0.0        0.0        0.0          0.0  \n",
       " ...         ...       ...        ...        ...        ...          ...  \n",
       " 35131  0.451864  0.082966        0.0        0.0        0.0          0.0  \n",
       " 35132  0.452676  0.099119        0.0        0.0        0.0          0.0  \n",
       " 35133  0.455438  0.168135        0.0        0.0        0.0          0.0  \n",
       " 35134  0.458200  0.195301        0.0        0.0        0.0          0.0  \n",
       " 35135  0.460962  0.081498        0.0        0.0        0.0          0.0  \n",
       " \n",
       " [35136 rows x 13 columns],\n",
       " 'storage':        lv_rural1  lv_rural3  lv_semiurb4\n",
       " 0       0.000000   0.000000          0.0\n",
       " 1       0.000000   0.000000          0.0\n",
       " 2       0.000000   0.000000          0.0\n",
       " 3       0.000000   0.000000          0.0\n",
       " 4       0.000000   0.000000          0.0\n",
       " ...          ...        ...          ...\n",
       " 35131   0.015781   0.006209          0.0\n",
       " 35132   0.017137   0.006183          0.0\n",
       " 35133   0.016037   0.004865          0.0\n",
       " 35134   0.017513   0.004693          0.0\n",
       " 35135   0.017739   0.005163          0.0\n",
       " \n",
       " [35136 rows x 3 columns]}"
      ]
     },
     "execution_count": 52,
     "metadata": {},
     "output_type": "execute_result"
    }
   ],
   "source": [
    "net.profiles"
   ]
  },
  {
   "cell_type": "code",
   "execution_count": 54,
   "metadata": {
    "ExecuteTime": {
     "end_time": "2021-03-01T10:44:25.092847Z",
     "start_time": "2021-03-01T10:44:24.851486Z"
    }
   },
   "outputs": [
    {
     "data": {
      "text/plain": [
       "{('load',\n",
       "  'p_mw'):              0         1         2         3         4         5         6   \\\n",
       " 0      0.028393  0.005514  0.005514  0.005514  0.005514  0.003909  0.003909   \n",
       " 1      0.028263  0.007749  0.007749  0.007749  0.007749  0.002847  0.002847   \n",
       " 2      0.032449  0.008986  0.008986  0.008986  0.008986  0.003412  0.003412   \n",
       " 3      0.031367  0.008970  0.008970  0.008970  0.008970  0.002889  0.002889   \n",
       " 4      0.031367  0.009169  0.009169  0.009169  0.009169  0.003107  0.003107   \n",
       " ...         ...       ...       ...       ...       ...       ...       ...   \n",
       " 35131  0.029074  0.007307  0.007307  0.007307  0.007307  0.002559  0.002559   \n",
       " 35132  0.033130  0.006881  0.006881  0.006881  0.006881  0.002519  0.002519   \n",
       " 35133  0.029615  0.005148  0.005148  0.005148  0.005148  0.002435  0.002435   \n",
       " 35134  0.025148  0.006037  0.006037  0.006037  0.006037  0.002390  0.002390   \n",
       " 35135  0.033130  0.006121  0.006121  0.006121  0.006121  0.002544  0.002544   \n",
       " \n",
       "              7         8         9   ...        86        87        88  \\\n",
       " 0      0.003909  0.003909  0.005733  ...  0.005514  0.003909  0.003909   \n",
       " 1      0.002847  0.002847  0.003619  ...  0.007749  0.002847  0.002847   \n",
       " 2      0.003412  0.003412  0.004669  ...  0.008986  0.003412  0.003412   \n",
       " 3      0.002889  0.002889  0.003778  ...  0.008970  0.002889  0.002889   \n",
       " 4      0.003107  0.003107  0.004125  ...  0.009169  0.003107  0.003107   \n",
       " ...         ...       ...       ...  ...       ...       ...       ...   \n",
       " 35131  0.002559  0.002559  0.008132  ...  0.007307  0.002559  0.002559   \n",
       " 35132  0.002519  0.002519  0.008770  ...  0.006881  0.002519  0.002519   \n",
       " 35133  0.002435  0.002435  0.005773  ...  0.005148  0.002435  0.002435   \n",
       " 35134  0.002390  0.002390  0.002895  ...  0.006037  0.002390  0.002390   \n",
       " 35135  0.002544  0.002544  0.003006  ...  0.006121  0.002544  0.002544   \n",
       " \n",
       "              89        90        91        92        93        94        95  \n",
       " 0      0.003909  0.005514  0.017818  0.037453  0.086928  0.007201  0.015474  \n",
       " 1      0.002847  0.007749  0.024707  0.038498  0.072882  0.010161  0.013434  \n",
       " 2      0.003412  0.008986  0.025553  0.033794  0.075532  0.010669  0.014794  \n",
       " 3      0.002889  0.008970  0.025396  0.036582  0.074737  0.008555  0.015474  \n",
       " 4      0.003107  0.009169  0.025271  0.036930  0.076062  0.009572  0.012924  \n",
       " ...         ...       ...       ...       ...       ...       ...       ...  \n",
       " 35131  0.002559  0.007307  0.017693  0.033969  0.084808  0.007878  0.017175  \n",
       " 35132  0.002519  0.006881  0.018663  0.035885  0.084013  0.007539  0.016325  \n",
       " 35133  0.002435  0.005148  0.018914  0.037627  0.082423  0.008467  0.015984  \n",
       " 35134  0.002390  0.006037  0.019603  0.033794  0.086133  0.006266  0.014624  \n",
       " 35135  0.002544  0.006121  0.018350  0.036756  0.082953  0.007113  0.014794  \n",
       " \n",
       " [35136 rows x 96 columns],\n",
       " ('load',\n",
       "  'q_mvar'):              0         1         2         3         4         5         6   \\\n",
       " 0      0.004717  0.002847  0.002847  0.002847  0.002847  0.000389  0.000389   \n",
       " 1      0.003142  0.005333  0.005333  0.005333  0.005333  0.000810  0.000810   \n",
       " 2      0.004551  0.005744  0.005744  0.005744  0.005744  0.000734  0.000734   \n",
       " 3      0.002646  0.005752  0.005752  0.005752  0.005752  0.000305  0.000305   \n",
       " 4      0.003473  0.005539  0.005539  0.005539  0.005539  0.000406  0.000406   \n",
       " ...         ...       ...       ...       ...       ...       ...       ...   \n",
       " 35131  0.004386  0.003368  0.003368  0.003368  0.003368  0.000397  0.000397   \n",
       " 35132  0.006040  0.003029  0.003029  0.003029  0.003029  0.000426  0.000426   \n",
       " 35133  0.005213  0.002369  0.002369  0.002369  0.002369  0.000428  0.000428   \n",
       " 35134  0.005048  0.003032  0.003032  0.003032  0.003032  0.000362  0.000362   \n",
       " 35135  0.006450  0.002957  0.002957  0.002957  0.002957  0.000230  0.000230   \n",
       " \n",
       "              7         8         9   ...        86        87        88  \\\n",
       " 0      0.000389  0.000389  0.000520  ...  0.002847  0.000389  0.000389   \n",
       " 1      0.000810  0.000810  0.001364  ...  0.005333  0.000810  0.000810   \n",
       " 2      0.000734  0.000734  0.001191  ...  0.005744  0.000734  0.000734   \n",
       " 3      0.000305  0.000305  0.000336  ...  0.005752  0.000305  0.000305   \n",
       " 4      0.000406  0.000406  0.000504  ...  0.005539  0.000406  0.000406   \n",
       " ...         ...       ...       ...  ...       ...       ...       ...   \n",
       " 35131  0.000397  0.000397  0.002383  ...  0.003368  0.000397  0.000397   \n",
       " 35132  0.000426  0.000426  0.002784  ...  0.003029  0.000426  0.000426   \n",
       " 35133  0.000428  0.000428  0.001662  ...  0.002369  0.000428  0.000428   \n",
       " 35134  0.000362  0.000362  0.000432  ...  0.003032  0.000362  0.000362   \n",
       " 35135  0.000230  0.000230  0.000108  ...  0.002957  0.000230  0.000230   \n",
       " \n",
       "              89        90        91        92        93        94        95  \n",
       " 0      0.000389  0.002847  0.016520  0.020703  0.006981  0.010420  0.011217  \n",
       " 1      0.000810  0.005333  0.020788  0.038262  0.008617  0.014373  0.011217  \n",
       " 2      0.000734  0.005744  0.021190  0.030400  0.008617  0.014840  0.011739  \n",
       " 3      0.000305  0.005752  0.021692  0.035117  0.008508  0.012163  0.012521  \n",
       " 4      0.000406  0.005539  0.021090  0.035379  0.008180  0.014209  0.011478  \n",
       " ...         ...       ...       ...       ...       ...       ...       ...  \n",
       " 35131  0.000397  0.003368  0.016671  0.015200  0.005672  0.011847  0.016173  \n",
       " 35132  0.000426  0.003029  0.017675  0.017034  0.006108  0.010584  0.015130  \n",
       " 35133  0.000428  0.002369  0.017876  0.021227  0.005890  0.012163  0.012782  \n",
       " 35134  0.000362  0.003032  0.017575  0.014676  0.007308  0.008689  0.010434  \n",
       " 35135  0.000230  0.002957  0.018027  0.019131  0.006217  0.010268  0.010434  \n",
       " \n",
       " [35136 rows x 96 columns],\n",
       " ('sgen',\n",
       "  'p_mw'):             0    1    2    3    4    5    6    7    8    9    ...       92   \\\n",
       " 0      0.591979  0.0  0.0  0.0  0.0  0.0  0.0  0.0  0.0  0.0  ...  0.503182   \n",
       " 1      0.593293  0.0  0.0  0.0  0.0  0.0  0.0  0.0  0.0  0.0  ...  0.504299   \n",
       " 2      0.594608  0.0  0.0  0.0  0.0  0.0  0.0  0.0  0.0  0.0  ...  0.505416   \n",
       " 3      0.595922  0.0  0.0  0.0  0.0  0.0  0.0  0.0  0.0  0.0  ...  0.506533   \n",
       " 4      0.597236  0.0  0.0  0.0  0.0  0.0  0.0  0.0  0.0  0.0  ...  0.507650   \n",
       " ...         ...  ...  ...  ...  ...  ...  ...  ...  ...  ...  ...       ...   \n",
       " 35131  0.127808  0.0  0.0  0.0  0.0  0.0  0.0  0.0  0.0  0.0  ...  0.108636   \n",
       " 35132  0.000000  0.0  0.0  0.0  0.0  0.0  0.0  0.0  0.0  0.0  ...  0.000000   \n",
       " 35133  0.000000  0.0  0.0  0.0  0.0  0.0  0.0  0.0  0.0  0.0  ...  0.000000   \n",
       " 35134  0.000000  0.0  0.0  0.0  0.0  0.0  0.0  0.0  0.0  0.0  ...  0.000000   \n",
       " 35135  0.000000  0.0  0.0  0.0  0.0  0.0  0.0  0.0  0.0  0.0  ...  0.000000   \n",
       " \n",
       "             93        94        95        96        97   98   99        100  \\\n",
       " 0      1.387689  0.123984  0.157106  0.532781  0.711636  0.0  0.0  0.046188   \n",
       " 1      1.387355  0.123396  0.157146  0.533964  0.711464  0.0  0.0  0.060994   \n",
       " 2      1.387022  0.122808  0.157185  0.535147  0.711293  0.0  0.0  0.061947   \n",
       " 3      1.386688  0.122221  0.157224  0.536329  0.711122  0.0  0.0  0.060875   \n",
       " 4      1.386354  0.121633  0.157263  0.537512  0.710951  0.0  0.0  0.061352   \n",
       " ...         ...       ...       ...       ...       ...  ...  ...       ...   \n",
       " 35131  0.318613  0.091460  0.135651  0.115027  0.163391  0.0  0.0  0.013462   \n",
       " 35132  0.000000  0.091624  0.135791  0.000000  0.000000  0.0  0.0  0.016082   \n",
       " 35133  0.000000  0.092183  0.136029  0.000000  0.000000  0.0  0.0  0.027281   \n",
       " 35134  0.000000  0.092742  0.136266  0.000000  0.000000  0.0  0.0  0.031688   \n",
       " 35135  0.000000  0.093302  0.136503  0.000000  0.000000  0.0  0.0  0.013223   \n",
       " \n",
       "             101  \n",
       " 0      0.128024  \n",
       " 1      0.128066  \n",
       " 2      0.128107  \n",
       " 3      0.128148  \n",
       " 4      0.128190  \n",
       " ...         ...  \n",
       " 35131  0.094960  \n",
       " 35132  0.094436  \n",
       " 35133  0.094118  \n",
       " 35134  0.093801  \n",
       " 35135  0.093483  \n",
       " \n",
       " [35136 rows x 102 columns],\n",
       " ('gen',\n",
       "  'p_mw'): Empty DataFrame\n",
       " Columns: []\n",
       " Index: [0, 1, 2, 3, 4, 5, 6, 7, 8, 9, 10, 11, 12, 13, 14, 15, 16, 17, 18, 19, 20, 21, 22, 23, 24, 25, 26, 27, 28, 29, 30, 31, 32, 33, 34, 35, 36, 37, 38, 39, 40, 41, 42, 43, 44, 45, 46, 47, 48, 49, 50, 51, 52, 53, 54, 55, 56, 57, 58, 59, 60, 61, 62, 63, 64, 65, 66, 67, 68, 69, 70, 71, 72, 73, 74, 75, 76, 77, 78, 79, 80, 81, 82, 83, 84, 85, 86, 87, 88, 89, 90, 91, 92, 93, 94, 95, 96, 97, 98, 99, ...]\n",
       " \n",
       " [35136 rows x 0 columns],\n",
       " ('storage',\n",
       "  'p_mw'):         0    1    2    3    4    5    6    7    8    9   ...   43   44   45  \\\n",
       " 0     -0.0 -0.0 -0.0 -0.0 -0.0 -0.0 -0.0 -0.0 -0.0 -0.0  ... -0.0 -0.0 -0.0   \n",
       " 1     -0.0 -0.0 -0.0 -0.0 -0.0 -0.0 -0.0 -0.0 -0.0 -0.0  ... -0.0 -0.0 -0.0   \n",
       " 2     -0.0 -0.0 -0.0 -0.0 -0.0 -0.0 -0.0 -0.0 -0.0 -0.0  ... -0.0 -0.0 -0.0   \n",
       " 3     -0.0 -0.0 -0.0 -0.0 -0.0 -0.0 -0.0 -0.0 -0.0 -0.0  ... -0.0 -0.0 -0.0   \n",
       " 4     -0.0 -0.0 -0.0 -0.0 -0.0 -0.0 -0.0 -0.0 -0.0 -0.0  ... -0.0 -0.0 -0.0   \n",
       " ...    ...  ...  ...  ...  ...  ...  ...  ...  ...  ...  ...  ...  ...  ...   \n",
       " 35131 -0.0 -0.0 -0.0 -0.0 -0.0 -0.0 -0.0 -0.0 -0.0 -0.0  ... -0.0 -0.0 -0.0   \n",
       " 35132 -0.0 -0.0 -0.0 -0.0 -0.0 -0.0 -0.0 -0.0 -0.0 -0.0  ... -0.0 -0.0 -0.0   \n",
       " 35133 -0.0 -0.0 -0.0 -0.0 -0.0 -0.0 -0.0 -0.0 -0.0 -0.0  ... -0.0 -0.0 -0.0   \n",
       " 35134 -0.0 -0.0 -0.0 -0.0 -0.0 -0.0 -0.0 -0.0 -0.0 -0.0  ... -0.0 -0.0 -0.0   \n",
       " 35135 -0.0 -0.0 -0.0 -0.0 -0.0 -0.0 -0.0 -0.0 -0.0 -0.0  ... -0.0 -0.0 -0.0   \n",
       " \n",
       "         46   47   48   49   50   51   52  \n",
       " 0     -0.0 -0.0 -0.0 -0.0 -0.0 -0.0 -0.0  \n",
       " 1     -0.0 -0.0 -0.0 -0.0 -0.0 -0.0 -0.0  \n",
       " 2     -0.0 -0.0 -0.0 -0.0 -0.0 -0.0 -0.0  \n",
       " 3     -0.0 -0.0 -0.0 -0.0 -0.0 -0.0 -0.0  \n",
       " 4     -0.0 -0.0 -0.0 -0.0 -0.0 -0.0 -0.0  \n",
       " ...    ...  ...  ...  ...  ...  ...  ...  \n",
       " 35131 -0.0 -0.0 -0.0 -0.0 -0.0 -0.0 -0.0  \n",
       " 35132 -0.0 -0.0 -0.0 -0.0 -0.0 -0.0 -0.0  \n",
       " 35133 -0.0 -0.0 -0.0 -0.0 -0.0 -0.0 -0.0  \n",
       " 35134 -0.0 -0.0 -0.0 -0.0 -0.0 -0.0 -0.0  \n",
       " 35135 -0.0 -0.0 -0.0 -0.0 -0.0 -0.0 -0.0  \n",
       " \n",
       " [35136 rows x 53 columns]}"
      ]
     },
     "execution_count": 54,
     "metadata": {},
     "output_type": "execute_result"
    }
   ],
   "source": [
    "profiles = sb.get_absolute_values(net, profiles_instead_of_study_cases=True)\n",
    "profiles"
   ]
  },
  {
   "cell_type": "code",
   "execution_count": 10,
   "metadata": {
    "ExecuteTime": {
     "end_time": "2021-03-01T12:21:14.554455Z",
     "start_time": "2021-03-01T12:21:14.520547Z"
    }
   },
   "outputs": [
    {
     "data": {
      "text/html": [
       "<div>\n",
       "<style scoped>\n",
       "    .dataframe tbody tr th:only-of-type {\n",
       "        vertical-align: middle;\n",
       "    }\n",
       "\n",
       "    .dataframe tbody tr th {\n",
       "        vertical-align: top;\n",
       "    }\n",
       "\n",
       "    .dataframe thead th {\n",
       "        text-align: right;\n",
       "    }\n",
       "</style>\n",
       "<table border=\"1\" class=\"dataframe\">\n",
       "  <thead>\n",
       "    <tr style=\"text-align: right;\">\n",
       "      <th></th>\n",
       "      <th>name</th>\n",
       "      <th>bus</th>\n",
       "      <th>p_mw</th>\n",
       "      <th>q_mvar</th>\n",
       "      <th>const_z_percent</th>\n",
       "      <th>const_i_percent</th>\n",
       "      <th>sn_mva</th>\n",
       "      <th>scaling</th>\n",
       "      <th>in_service</th>\n",
       "      <th>type</th>\n",
       "      <th>max_p_mw</th>\n",
       "      <th>max_q_mvar</th>\n",
       "      <th>voltLvl</th>\n",
       "      <th>profile</th>\n",
       "      <th>min_q_mvar</th>\n",
       "      <th>subnet</th>\n",
       "      <th>min_p_mw</th>\n",
       "    </tr>\n",
       "  </thead>\n",
       "  <tbody>\n",
       "    <tr>\n",
       "      <th>0</th>\n",
       "      <td>HV1_MV1.101_load</td>\n",
       "      <td>2</td>\n",
       "      <td>4.950124e-14</td>\n",
       "      <td>2.083897e-20</td>\n",
       "      <td>0.0</td>\n",
       "      <td>0.0</td>\n",
       "      <td>0.2463</td>\n",
       "      <td>1.0</td>\n",
       "      <td>True</td>\n",
       "      <td>NaN</td>\n",
       "      <td>NaN</td>\n",
       "      <td>NaN</td>\n",
       "      <td>5</td>\n",
       "      <td>G3-A</td>\n",
       "      <td>NaN</td>\n",
       "      <td>MV1.101</td>\n",
       "      <td>NaN</td>\n",
       "    </tr>\n",
       "    <tr>\n",
       "      <th>1</th>\n",
       "      <td>MV1.101 Load 2</td>\n",
       "      <td>4</td>\n",
       "      <td>2.986680e-17</td>\n",
       "      <td>1.719415e-13</td>\n",
       "      <td>0.0</td>\n",
       "      <td>0.0</td>\n",
       "      <td>0.0880</td>\n",
       "      <td>1.0</td>\n",
       "      <td>True</td>\n",
       "      <td>NaN</td>\n",
       "      <td>NaN</td>\n",
       "      <td>NaN</td>\n",
       "      <td>5</td>\n",
       "      <td>lv_rural1</td>\n",
       "      <td>NaN</td>\n",
       "      <td>MV1.101_LV1.101_eq</td>\n",
       "      <td>NaN</td>\n",
       "    </tr>\n",
       "    <tr>\n",
       "      <th>2</th>\n",
       "      <td>MV1.101 Load 3</td>\n",
       "      <td>5</td>\n",
       "      <td>2.986680e-17</td>\n",
       "      <td>1.719415e-13</td>\n",
       "      <td>0.0</td>\n",
       "      <td>0.0</td>\n",
       "      <td>0.0880</td>\n",
       "      <td>1.0</td>\n",
       "      <td>True</td>\n",
       "      <td>NaN</td>\n",
       "      <td>NaN</td>\n",
       "      <td>NaN</td>\n",
       "      <td>5</td>\n",
       "      <td>lv_rural1</td>\n",
       "      <td>NaN</td>\n",
       "      <td>MV1.101_LV1.102_eq</td>\n",
       "      <td>NaN</td>\n",
       "    </tr>\n",
       "    <tr>\n",
       "      <th>3</th>\n",
       "      <td>MV1.101 Load 4</td>\n",
       "      <td>6</td>\n",
       "      <td>2.986680e-17</td>\n",
       "      <td>1.719415e-13</td>\n",
       "      <td>0.0</td>\n",
       "      <td>0.0</td>\n",
       "      <td>0.0880</td>\n",
       "      <td>1.0</td>\n",
       "      <td>True</td>\n",
       "      <td>NaN</td>\n",
       "      <td>NaN</td>\n",
       "      <td>NaN</td>\n",
       "      <td>5</td>\n",
       "      <td>lv_rural1</td>\n",
       "      <td>NaN</td>\n",
       "      <td>MV1.101_LV1.103_eq</td>\n",
       "      <td>NaN</td>\n",
       "    </tr>\n",
       "    <tr>\n",
       "      <th>4</th>\n",
       "      <td>MV1.101 Load 5</td>\n",
       "      <td>7</td>\n",
       "      <td>2.986680e-17</td>\n",
       "      <td>1.719415e-13</td>\n",
       "      <td>0.0</td>\n",
       "      <td>0.0</td>\n",
       "      <td>0.0880</td>\n",
       "      <td>1.0</td>\n",
       "      <td>True</td>\n",
       "      <td>NaN</td>\n",
       "      <td>NaN</td>\n",
       "      <td>NaN</td>\n",
       "      <td>5</td>\n",
       "      <td>lv_rural1</td>\n",
       "      <td>NaN</td>\n",
       "      <td>MV1.101_LV1.104_eq</td>\n",
       "      <td>NaN</td>\n",
       "    </tr>\n",
       "    <tr>\n",
       "      <th>...</th>\n",
       "      <td>...</td>\n",
       "      <td>...</td>\n",
       "      <td>...</td>\n",
       "      <td>...</td>\n",
       "      <td>...</td>\n",
       "      <td>...</td>\n",
       "      <td>...</td>\n",
       "      <td>...</td>\n",
       "      <td>...</td>\n",
       "      <td>...</td>\n",
       "      <td>...</td>\n",
       "      <td>...</td>\n",
       "      <td>...</td>\n",
       "      <td>...</td>\n",
       "      <td>...</td>\n",
       "      <td>...</td>\n",
       "      <td>...</td>\n",
       "    </tr>\n",
       "    <tr>\n",
       "      <th>91</th>\n",
       "      <td>MV1.101 MV Load 1</td>\n",
       "      <td>15</td>\n",
       "      <td>2.755534e-20</td>\n",
       "      <td>6.102503e-15</td>\n",
       "      <td>0.0</td>\n",
       "      <td>0.0</td>\n",
       "      <td>0.3748</td>\n",
       "      <td>1.0</td>\n",
       "      <td>True</td>\n",
       "      <td>NaN</td>\n",
       "      <td>NaN</td>\n",
       "      <td>NaN</td>\n",
       "      <td>5</td>\n",
       "      <td>L2-M</td>\n",
       "      <td>NaN</td>\n",
       "      <td>MV1.101</td>\n",
       "      <td>NaN</td>\n",
       "    </tr>\n",
       "    <tr>\n",
       "      <th>92</th>\n",
       "      <td>MV1.101 MV Load 2</td>\n",
       "      <td>54</td>\n",
       "      <td>3.740617e-18</td>\n",
       "      <td>1.377551e-13</td>\n",
       "      <td>0.0</td>\n",
       "      <td>0.0</td>\n",
       "      <td>0.5998</td>\n",
       "      <td>1.0</td>\n",
       "      <td>True</td>\n",
       "      <td>NaN</td>\n",
       "      <td>NaN</td>\n",
       "      <td>NaN</td>\n",
       "      <td>5</td>\n",
       "      <td>G0-M</td>\n",
       "      <td>NaN</td>\n",
       "      <td>MV1.101</td>\n",
       "      <td>NaN</td>\n",
       "    </tr>\n",
       "    <tr>\n",
       "      <th>93</th>\n",
       "      <td>MV1.101 MV Load 3</td>\n",
       "      <td>64</td>\n",
       "      <td>8.510826e-13</td>\n",
       "      <td>5.331337e-24</td>\n",
       "      <td>0.0</td>\n",
       "      <td>0.0</td>\n",
       "      <td>0.4820</td>\n",
       "      <td>1.0</td>\n",
       "      <td>True</td>\n",
       "      <td>NaN</td>\n",
       "      <td>NaN</td>\n",
       "      <td>NaN</td>\n",
       "      <td>5</td>\n",
       "      <td>G3-M</td>\n",
       "      <td>NaN</td>\n",
       "      <td>MV1.101</td>\n",
       "      <td>NaN</td>\n",
       "    </tr>\n",
       "    <tr>\n",
       "      <th>94</th>\n",
       "      <td>MV1.101 MV Load 4</td>\n",
       "      <td>27</td>\n",
       "      <td>9.623625e-22</td>\n",
       "      <td>1.422984e-14</td>\n",
       "      <td>0.0</td>\n",
       "      <td>0.0</td>\n",
       "      <td>0.2891</td>\n",
       "      <td>1.0</td>\n",
       "      <td>True</td>\n",
       "      <td>NaN</td>\n",
       "      <td>NaN</td>\n",
       "      <td>NaN</td>\n",
       "      <td>5</td>\n",
       "      <td>G0-A</td>\n",
       "      <td>NaN</td>\n",
       "      <td>MV1.101</td>\n",
       "      <td>NaN</td>\n",
       "    </tr>\n",
       "    <tr>\n",
       "      <th>95</th>\n",
       "      <td>MV1.101 MV Load 5</td>\n",
       "      <td>94</td>\n",
       "      <td>5.849385e-19</td>\n",
       "      <td>3.708006e-14</td>\n",
       "      <td>0.0</td>\n",
       "      <td>0.0</td>\n",
       "      <td>0.3159</td>\n",
       "      <td>1.0</td>\n",
       "      <td>True</td>\n",
       "      <td>NaN</td>\n",
       "      <td>NaN</td>\n",
       "      <td>NaN</td>\n",
       "      <td>5</td>\n",
       "      <td>L0-A</td>\n",
       "      <td>NaN</td>\n",
       "      <td>MV1.101</td>\n",
       "      <td>NaN</td>\n",
       "    </tr>\n",
       "  </tbody>\n",
       "</table>\n",
       "<p>96 rows × 17 columns</p>\n",
       "</div>"
      ],
      "text/plain": [
       "                 name  bus          p_mw        q_mvar  const_z_percent  \\\n",
       "0    HV1_MV1.101_load    2  4.950124e-14  2.083897e-20              0.0   \n",
       "1      MV1.101 Load 2    4  2.986680e-17  1.719415e-13              0.0   \n",
       "2      MV1.101 Load 3    5  2.986680e-17  1.719415e-13              0.0   \n",
       "3      MV1.101 Load 4    6  2.986680e-17  1.719415e-13              0.0   \n",
       "4      MV1.101 Load 5    7  2.986680e-17  1.719415e-13              0.0   \n",
       "..                ...  ...           ...           ...              ...   \n",
       "91  MV1.101 MV Load 1   15  2.755534e-20  6.102503e-15              0.0   \n",
       "92  MV1.101 MV Load 2   54  3.740617e-18  1.377551e-13              0.0   \n",
       "93  MV1.101 MV Load 3   64  8.510826e-13  5.331337e-24              0.0   \n",
       "94  MV1.101 MV Load 4   27  9.623625e-22  1.422984e-14              0.0   \n",
       "95  MV1.101 MV Load 5   94  5.849385e-19  3.708006e-14              0.0   \n",
       "\n",
       "    const_i_percent  sn_mva  scaling  in_service type max_p_mw max_q_mvar  \\\n",
       "0               0.0  0.2463      1.0        True  NaN      NaN        NaN   \n",
       "1               0.0  0.0880      1.0        True  NaN      NaN        NaN   \n",
       "2               0.0  0.0880      1.0        True  NaN      NaN        NaN   \n",
       "3               0.0  0.0880      1.0        True  NaN      NaN        NaN   \n",
       "4               0.0  0.0880      1.0        True  NaN      NaN        NaN   \n",
       "..              ...     ...      ...         ...  ...      ...        ...   \n",
       "91              0.0  0.3748      1.0        True  NaN      NaN        NaN   \n",
       "92              0.0  0.5998      1.0        True  NaN      NaN        NaN   \n",
       "93              0.0  0.4820      1.0        True  NaN      NaN        NaN   \n",
       "94              0.0  0.2891      1.0        True  NaN      NaN        NaN   \n",
       "95              0.0  0.3159      1.0        True  NaN      NaN        NaN   \n",
       "\n",
       "   voltLvl    profile min_q_mvar              subnet min_p_mw  \n",
       "0        5       G3-A        NaN             MV1.101      NaN  \n",
       "1        5  lv_rural1        NaN  MV1.101_LV1.101_eq      NaN  \n",
       "2        5  lv_rural1        NaN  MV1.101_LV1.102_eq      NaN  \n",
       "3        5  lv_rural1        NaN  MV1.101_LV1.103_eq      NaN  \n",
       "4        5  lv_rural1        NaN  MV1.101_LV1.104_eq      NaN  \n",
       "..     ...        ...        ...                 ...      ...  \n",
       "91       5       L2-M        NaN             MV1.101      NaN  \n",
       "92       5       G0-M        NaN             MV1.101      NaN  \n",
       "93       5       G3-M        NaN             MV1.101      NaN  \n",
       "94       5       G0-A        NaN             MV1.101      NaN  \n",
       "95       5       L0-A        NaN             MV1.101      NaN  \n",
       "\n",
       "[96 rows x 17 columns]"
      ]
     },
     "execution_count": 10,
     "metadata": {},
     "output_type": "execute_result"
    }
   ],
   "source": [
    "net.load"
   ]
  }
 ],
 "metadata": {
  "kernelspec": {
   "display_name": "Python 3",
   "language": "python",
   "name": "python3"
  },
  "language_info": {
   "codemirror_mode": {
    "name": "ipython",
    "version": 3
   },
   "file_extension": ".py",
   "mimetype": "text/x-python",
   "name": "python",
   "nbconvert_exporter": "python",
   "pygments_lexer": "ipython3",
   "version": "3.8.5"
  },
  "toc": {
   "base_numbering": 1,
   "nav_menu": {
    "height": "155px",
    "width": "190px"
   },
   "number_sections": true,
   "sideBar": true,
   "skip_h1_title": false,
   "title_cell": "Table of Contents",
   "title_sidebar": "Contents",
   "toc_cell": false,
   "toc_position": {
    "height": "calc(100% - 180px)",
    "left": "10px",
    "top": "150px",
    "width": "165px"
   },
   "toc_section_display": true,
   "toc_window_display": true
  },
  "varInspector": {
   "cols": {
    "lenName": 16,
    "lenType": 16,
    "lenVar": 40
   },
   "kernels_config": {
    "python": {
     "delete_cmd_postfix": "",
     "delete_cmd_prefix": "del ",
     "library": "var_list.py",
     "varRefreshCmd": "print(var_dic_list())"
    },
    "r": {
     "delete_cmd_postfix": ") ",
     "delete_cmd_prefix": "rm(",
     "library": "var_list.r",
     "varRefreshCmd": "cat(var_dic_list()) "
    }
   },
   "oldHeight": 494.4,
   "position": {
    "height": "40px",
    "left": "1122px",
    "right": "20px",
    "top": "120px",
    "width": "394px"
   },
   "types_to_exclude": [
    "module",
    "function",
    "builtin_function_or_method",
    "instance",
    "_Feature"
   ],
   "varInspector_section_display": "none",
   "window_display": true
  }
 },
 "nbformat": 4,
 "nbformat_minor": 4
}
